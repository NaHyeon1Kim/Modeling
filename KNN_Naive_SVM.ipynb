{
  "nbformat": 4,
  "nbformat_minor": 0,
  "metadata": {
    "colab": {
      "provenance": [],
      "authorship_tag": "ABX9TyPiGEPxS6NqmoCf648AzUv5",
      "include_colab_link": true
    },
    "kernelspec": {
      "name": "python3",
      "display_name": "Python 3"
    },
    "language_info": {
      "name": "python"
    }
  },
  "cells": [
    {
      "cell_type": "markdown",
      "metadata": {
        "id": "view-in-github",
        "colab_type": "text"
      },
      "source": [
        "<a href=\"https://colab.research.google.com/github/NaHyeon1Kim/Modeling/blob/main/KNN_Naive_SVM.ipynb\" target=\"_parent\"><img src=\"https://colab.research.google.com/assets/colab-badge.svg\" alt=\"Open In Colab\"/></a>"
      ]
    },
    {
      "cell_type": "markdown",
      "metadata": {
        "id": "2sQwcJsW8iZg"
      },
      "source": [
        "# 1. K-Nearest Neighbors"
      ]
    },
    {
      "cell_type": "markdown",
      "metadata": {
        "id": "5jYyBoTsIdf3"
      },
      "source": [
        "- 장점\n",
        "  - 쉬운 알고리즘\n",
        "  - 튜닝할 hyperparameter 스트레스가 없음\n",
        "- 단점\n",
        "  - Observation 증가에 따른 계산 비용\n",
        "  - pre-processing을 잘하지 않으면 좋은 성능을 기대하기 어려움-> 거리!\n",
        "  - feature의 값이 대부분 0인 데이터셋, Sparse인 경우 성능 이슈"
      ]
    },
    {
      "cell_type": "code",
      "metadata": {
        "id": "Be6kcnL-oXKk"
      },
      "source": [
        "import pandas as pd\n",
        "import numpy as np\n",
        "from sklearn.datasets import load_iris"
      ],
      "execution_count": null,
      "outputs": []
    },
    {
      "cell_type": "code",
      "metadata": {
        "id": "lTx5rokDod1R"
      },
      "source": [
        "iris = load_iris()\n",
        "iris"
      ],
      "execution_count": null,
      "outputs": []
    },
    {
      "cell_type": "code",
      "metadata": {
        "colab": {
          "base_uri": "https://localhost:8080/"
        },
        "id": "ggHAVkKEohPY",
        "outputId": "bead100e-147c-4187-e565-a27aab135ded"
      },
      "source": [
        "iris.keys()"
      ],
      "execution_count": null,
      "outputs": [
        {
          "output_type": "execute_result",
          "data": {
            "text/plain": [
              "dict_keys(['data', 'target', 'frame', 'target_names', 'DESCR', 'feature_names', 'filename', 'data_module'])"
            ]
          },
          "metadata": {},
          "execution_count": 3
        }
      ]
    },
    {
      "cell_type": "code",
      "metadata": {
        "colab": {
          "base_uri": "https://localhost:8080/"
        },
        "id": "b0Zs_VF0ojlU",
        "outputId": "033f830e-af82-48c1-edd2-f7d79eb001e2"
      },
      "source": [
        "iris.target_names"
      ],
      "execution_count": null,
      "outputs": [
        {
          "output_type": "execute_result",
          "data": {
            "text/plain": [
              "array(['setosa', 'versicolor', 'virginica'], dtype='<U10')"
            ]
          },
          "metadata": {},
          "execution_count": 3
        }
      ]
    },
    {
      "cell_type": "code",
      "metadata": {
        "colab": {
          "base_uri": "https://localhost:8080/"
        },
        "id": "WoQqMjN6ojpW",
        "outputId": "ba547509-42b9-4525-d85a-affa2440bfb8"
      },
      "source": [
        "iris.feature_names"
      ],
      "execution_count": null,
      "outputs": [
        {
          "output_type": "execute_result",
          "data": {
            "text/plain": [
              "['sepal length (cm)',\n",
              " 'sepal width (cm)',\n",
              " 'petal length (cm)',\n",
              " 'petal width (cm)']"
            ]
          },
          "metadata": {},
          "execution_count": 4
        }
      ]
    },
    {
      "cell_type": "code",
      "metadata": {
        "colab": {
          "base_uri": "https://localhost:8080/"
        },
        "id": "de1VkGM2ojtU",
        "outputId": "34b44ba1-6f5b-4836-e08b-4a4225dad375"
      },
      "source": [
        "from sklearn.model_selection import train_test_split\n",
        "X_train,X_test,y_train,y_test = train_test_split(iris.data,iris.target,test_size = 0.2,random_state = 42)\n",
        "print(X_train.shape)\n",
        "print(X_test.shape)\n",
        "print(y_train.shape)\n",
        "print(y_test.shape)"
      ],
      "execution_count": null,
      "outputs": [
        {
          "output_type": "stream",
          "name": "stdout",
          "text": [
            "(120, 4)\n",
            "(30, 4)\n",
            "(120,)\n",
            "(30,)\n"
          ]
        }
      ]
    },
    {
      "cell_type": "code",
      "metadata": {
        "colab": {
          "base_uri": "https://localhost:8080/",
          "height": 74
        },
        "id": "FqLah9ErpFqQ",
        "outputId": "fce91749-72bf-40f0-bb3e-5d3c78fd92ff"
      },
      "source": [
        "from sklearn.neighbors import KNeighborsClassifier\n",
        "knn = KNeighborsClassifier(n_neighbors = 3)\n",
        "knn.fit(X_train,y_train)"
      ],
      "execution_count": null,
      "outputs": [
        {
          "output_type": "execute_result",
          "data": {
            "text/plain": [
              "KNeighborsClassifier(n_neighbors=3)"
            ],
            "text/html": [
              "<style>#sk-container-id-4 {color: black;background-color: white;}#sk-container-id-4 pre{padding: 0;}#sk-container-id-4 div.sk-toggleable {background-color: white;}#sk-container-id-4 label.sk-toggleable__label {cursor: pointer;display: block;width: 100%;margin-bottom: 0;padding: 0.3em;box-sizing: border-box;text-align: center;}#sk-container-id-4 label.sk-toggleable__label-arrow:before {content: \"▸\";float: left;margin-right: 0.25em;color: #696969;}#sk-container-id-4 label.sk-toggleable__label-arrow:hover:before {color: black;}#sk-container-id-4 div.sk-estimator:hover label.sk-toggleable__label-arrow:before {color: black;}#sk-container-id-4 div.sk-toggleable__content {max-height: 0;max-width: 0;overflow: hidden;text-align: left;background-color: #f0f8ff;}#sk-container-id-4 div.sk-toggleable__content pre {margin: 0.2em;color: black;border-radius: 0.25em;background-color: #f0f8ff;}#sk-container-id-4 input.sk-toggleable__control:checked~div.sk-toggleable__content {max-height: 200px;max-width: 100%;overflow: auto;}#sk-container-id-4 input.sk-toggleable__control:checked~label.sk-toggleable__label-arrow:before {content: \"▾\";}#sk-container-id-4 div.sk-estimator input.sk-toggleable__control:checked~label.sk-toggleable__label {background-color: #d4ebff;}#sk-container-id-4 div.sk-label input.sk-toggleable__control:checked~label.sk-toggleable__label {background-color: #d4ebff;}#sk-container-id-4 input.sk-hidden--visually {border: 0;clip: rect(1px 1px 1px 1px);clip: rect(1px, 1px, 1px, 1px);height: 1px;margin: -1px;overflow: hidden;padding: 0;position: absolute;width: 1px;}#sk-container-id-4 div.sk-estimator {font-family: monospace;background-color: #f0f8ff;border: 1px dotted black;border-radius: 0.25em;box-sizing: border-box;margin-bottom: 0.5em;}#sk-container-id-4 div.sk-estimator:hover {background-color: #d4ebff;}#sk-container-id-4 div.sk-parallel-item::after {content: \"\";width: 100%;border-bottom: 1px solid gray;flex-grow: 1;}#sk-container-id-4 div.sk-label:hover label.sk-toggleable__label {background-color: #d4ebff;}#sk-container-id-4 div.sk-serial::before {content: \"\";position: absolute;border-left: 1px solid gray;box-sizing: border-box;top: 0;bottom: 0;left: 50%;z-index: 0;}#sk-container-id-4 div.sk-serial {display: flex;flex-direction: column;align-items: center;background-color: white;padding-right: 0.2em;padding-left: 0.2em;position: relative;}#sk-container-id-4 div.sk-item {position: relative;z-index: 1;}#sk-container-id-4 div.sk-parallel {display: flex;align-items: stretch;justify-content: center;background-color: white;position: relative;}#sk-container-id-4 div.sk-item::before, #sk-container-id-4 div.sk-parallel-item::before {content: \"\";position: absolute;border-left: 1px solid gray;box-sizing: border-box;top: 0;bottom: 0;left: 50%;z-index: -1;}#sk-container-id-4 div.sk-parallel-item {display: flex;flex-direction: column;z-index: 1;position: relative;background-color: white;}#sk-container-id-4 div.sk-parallel-item:first-child::after {align-self: flex-end;width: 50%;}#sk-container-id-4 div.sk-parallel-item:last-child::after {align-self: flex-start;width: 50%;}#sk-container-id-4 div.sk-parallel-item:only-child::after {width: 0;}#sk-container-id-4 div.sk-dashed-wrapped {border: 1px dashed gray;margin: 0 0.4em 0.5em 0.4em;box-sizing: border-box;padding-bottom: 0.4em;background-color: white;}#sk-container-id-4 div.sk-label label {font-family: monospace;font-weight: bold;display: inline-block;line-height: 1.2em;}#sk-container-id-4 div.sk-label-container {text-align: center;}#sk-container-id-4 div.sk-container {/* jupyter's `normalize.less` sets `[hidden] { display: none; }` but bootstrap.min.css set `[hidden] { display: none !important; }` so we also need the `!important` here to be able to override the default hidden behavior on the sphinx rendered scikit-learn.org. See: https://github.com/scikit-learn/scikit-learn/issues/21755 */display: inline-block !important;position: relative;}#sk-container-id-4 div.sk-text-repr-fallback {display: none;}</style><div id=\"sk-container-id-4\" class=\"sk-top-container\"><div class=\"sk-text-repr-fallback\"><pre>KNeighborsClassifier(n_neighbors=3)</pre><b>In a Jupyter environment, please rerun this cell to show the HTML representation or trust the notebook. <br />On GitHub, the HTML representation is unable to render, please try loading this page with nbviewer.org.</b></div><div class=\"sk-container\" hidden><div class=\"sk-item\"><div class=\"sk-estimator sk-toggleable\"><input class=\"sk-toggleable__control sk-hidden--visually\" id=\"sk-estimator-id-4\" type=\"checkbox\" checked><label for=\"sk-estimator-id-4\" class=\"sk-toggleable__label sk-toggleable__label-arrow\">KNeighborsClassifier</label><div class=\"sk-toggleable__content\"><pre>KNeighborsClassifier(n_neighbors=3)</pre></div></div></div></div></div>"
            ]
          },
          "metadata": {},
          "execution_count": 17
        }
      ]
    },
    {
      "cell_type": "code",
      "source": [
        "from sklearn.neighbors import KNeighborsClassifier\n",
        "knn2 = KNeighborsClassifier(n_neighbors=5)\n",
        "knn2.fit(X_train,y_train)"
      ],
      "metadata": {
        "colab": {
          "base_uri": "https://localhost:8080/",
          "height": 74
        },
        "id": "4alvEm_MOjqF",
        "outputId": "c002a7a6-9171-40d2-8f1f-7fd92056e22c"
      },
      "execution_count": null,
      "outputs": [
        {
          "output_type": "execute_result",
          "data": {
            "text/plain": [
              "KNeighborsClassifier()"
            ],
            "text/html": [
              "<style>#sk-container-id-5 {color: black;background-color: white;}#sk-container-id-5 pre{padding: 0;}#sk-container-id-5 div.sk-toggleable {background-color: white;}#sk-container-id-5 label.sk-toggleable__label {cursor: pointer;display: block;width: 100%;margin-bottom: 0;padding: 0.3em;box-sizing: border-box;text-align: center;}#sk-container-id-5 label.sk-toggleable__label-arrow:before {content: \"▸\";float: left;margin-right: 0.25em;color: #696969;}#sk-container-id-5 label.sk-toggleable__label-arrow:hover:before {color: black;}#sk-container-id-5 div.sk-estimator:hover label.sk-toggleable__label-arrow:before {color: black;}#sk-container-id-5 div.sk-toggleable__content {max-height: 0;max-width: 0;overflow: hidden;text-align: left;background-color: #f0f8ff;}#sk-container-id-5 div.sk-toggleable__content pre {margin: 0.2em;color: black;border-radius: 0.25em;background-color: #f0f8ff;}#sk-container-id-5 input.sk-toggleable__control:checked~div.sk-toggleable__content {max-height: 200px;max-width: 100%;overflow: auto;}#sk-container-id-5 input.sk-toggleable__control:checked~label.sk-toggleable__label-arrow:before {content: \"▾\";}#sk-container-id-5 div.sk-estimator input.sk-toggleable__control:checked~label.sk-toggleable__label {background-color: #d4ebff;}#sk-container-id-5 div.sk-label input.sk-toggleable__control:checked~label.sk-toggleable__label {background-color: #d4ebff;}#sk-container-id-5 input.sk-hidden--visually {border: 0;clip: rect(1px 1px 1px 1px);clip: rect(1px, 1px, 1px, 1px);height: 1px;margin: -1px;overflow: hidden;padding: 0;position: absolute;width: 1px;}#sk-container-id-5 div.sk-estimator {font-family: monospace;background-color: #f0f8ff;border: 1px dotted black;border-radius: 0.25em;box-sizing: border-box;margin-bottom: 0.5em;}#sk-container-id-5 div.sk-estimator:hover {background-color: #d4ebff;}#sk-container-id-5 div.sk-parallel-item::after {content: \"\";width: 100%;border-bottom: 1px solid gray;flex-grow: 1;}#sk-container-id-5 div.sk-label:hover label.sk-toggleable__label {background-color: #d4ebff;}#sk-container-id-5 div.sk-serial::before {content: \"\";position: absolute;border-left: 1px solid gray;box-sizing: border-box;top: 0;bottom: 0;left: 50%;z-index: 0;}#sk-container-id-5 div.sk-serial {display: flex;flex-direction: column;align-items: center;background-color: white;padding-right: 0.2em;padding-left: 0.2em;position: relative;}#sk-container-id-5 div.sk-item {position: relative;z-index: 1;}#sk-container-id-5 div.sk-parallel {display: flex;align-items: stretch;justify-content: center;background-color: white;position: relative;}#sk-container-id-5 div.sk-item::before, #sk-container-id-5 div.sk-parallel-item::before {content: \"\";position: absolute;border-left: 1px solid gray;box-sizing: border-box;top: 0;bottom: 0;left: 50%;z-index: -1;}#sk-container-id-5 div.sk-parallel-item {display: flex;flex-direction: column;z-index: 1;position: relative;background-color: white;}#sk-container-id-5 div.sk-parallel-item:first-child::after {align-self: flex-end;width: 50%;}#sk-container-id-5 div.sk-parallel-item:last-child::after {align-self: flex-start;width: 50%;}#sk-container-id-5 div.sk-parallel-item:only-child::after {width: 0;}#sk-container-id-5 div.sk-dashed-wrapped {border: 1px dashed gray;margin: 0 0.4em 0.5em 0.4em;box-sizing: border-box;padding-bottom: 0.4em;background-color: white;}#sk-container-id-5 div.sk-label label {font-family: monospace;font-weight: bold;display: inline-block;line-height: 1.2em;}#sk-container-id-5 div.sk-label-container {text-align: center;}#sk-container-id-5 div.sk-container {/* jupyter's `normalize.less` sets `[hidden] { display: none; }` but bootstrap.min.css set `[hidden] { display: none !important; }` so we also need the `!important` here to be able to override the default hidden behavior on the sphinx rendered scikit-learn.org. See: https://github.com/scikit-learn/scikit-learn/issues/21755 */display: inline-block !important;position: relative;}#sk-container-id-5 div.sk-text-repr-fallback {display: none;}</style><div id=\"sk-container-id-5\" class=\"sk-top-container\"><div class=\"sk-text-repr-fallback\"><pre>KNeighborsClassifier()</pre><b>In a Jupyter environment, please rerun this cell to show the HTML representation or trust the notebook. <br />On GitHub, the HTML representation is unable to render, please try loading this page with nbviewer.org.</b></div><div class=\"sk-container\" hidden><div class=\"sk-item\"><div class=\"sk-estimator sk-toggleable\"><input class=\"sk-toggleable__control sk-hidden--visually\" id=\"sk-estimator-id-5\" type=\"checkbox\" checked><label for=\"sk-estimator-id-5\" class=\"sk-toggleable__label sk-toggleable__label-arrow\">KNeighborsClassifier</label><div class=\"sk-toggleable__content\"><pre>KNeighborsClassifier()</pre></div></div></div></div></div>"
            ]
          },
          "metadata": {},
          "execution_count": 18
        }
      ]
    },
    {
      "cell_type": "code",
      "metadata": {
        "colab": {
          "base_uri": "https://localhost:8080/"
        },
        "id": "ph6GJ6o5pFuZ",
        "outputId": "c5cdfa45-873d-43c3-ebc8-eacdafe96818"
      },
      "source": [
        "print('accuracy : {:.2f}'.format(knn.score(X_test,y_test)))\n",
        "print('accuracy : {:2f}'.format(knn2.score(X_test,y_test)))"
      ],
      "execution_count": null,
      "outputs": [
        {
          "output_type": "stream",
          "name": "stdout",
          "text": [
            "accuracy : 1.00\n",
            "accuracy : 1.000000\n"
          ]
        }
      ]
    },
    {
      "cell_type": "markdown",
      "metadata": {
        "id": "2fWtII9Qn5Z7"
      },
      "source": [
        "**2. Naive Bayes**\n",
        "\n",
        "![image.png](data:image/png;base64,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)"
      ]
    },
    {
      "cell_type": "markdown",
      "metadata": {
        "id": "Azz82G8BtZON"
      },
      "source": [
        "- Bayes 정리를 활용한 분류\n",
        "- Frequency Table: 데이터에서의 빈도\n",
        "- Likelihood Table 1: 각 Feature X 각 Label에 대한 확률\n",
        "- Likelihood Table 2는 각 Feature에 대한 사후 확률\n",
        "\n",
        "- 예: 날씨가 Overcast(흐린)\n",
        " - P(Yes|overcast) = P(overcast|Yes) * P(Yes)/P(overcast)\n",
        " 1. 사전확률(Prior Probability)\n",
        "\n",
        "    P(overcast) = 4/14 = 0.29\n",
        "\n",
        "    P(Yes) = 9/14 = 0.64\n",
        "\n",
        " 2. 사후 확률(posterior probability)\n",
        "\n",
        "    P(Overcast|NO) = 0/9 = 0\n",
        "\n",
        " 3. 베이즈 정리에 대입\n",
        "\n",
        "    P(NO|overcast) = P(overcast|NO) * (P(No) / P(overcast)) = 0*(0.36 / 0.29) = 0\n",
        "\n",
        " - P(Yes|Overcast) = 1, P(No|Overcast) = 0\n",
        " - 날씨가 Overcast일 때 축구를 하는 확률은 0, 축구를 하지 않을 확률은 1\n",
        " - 두 확률을 비교한 뒤 더 높은 확률의 Label로 분류\n",
        "\n"
      ]
    },
    {
      "cell_type": "markdown",
      "metadata": {
        "id": "_jf6QRGOviCc"
      },
      "source": [
        "- Feature가 2개 이상인 경우\n",
        "\n",
        "<figure>\n",
        "<img src = 'https://img1.daumcdn.net/thumb/R1280x0/?scode=mtistory2&fname=https%3A%2F%2Fblog.kakaocdn.net%2Fdn%2FYGLmm%2FbtqwIYLAj80%2FN2C1tFlYC9zNzvUKjy9tgk%2Fimg.png'>\n",
        "\n",
        "\n",
        " 1. 사전 확률\n",
        "\n",
        "    P(Yes) = 9/14 = 0.64\n",
        "\n",
        " 2. 사후 확률\n",
        "\n",
        "    P(Overcast|Yes) = 4/9 = 0.44\n",
        "\n",
        "    P(Mild|Yes) = 4/9 = 0.44\n",
        "\n",
        " 3. 베이즈 공식에 대입\n",
        "\n",
        "    P(Weather=Overcast, Temp=Mild | Play=Yes) = P(Overcast|Yes) P(Mild|Yes) = 0.44 * 0.44 = 0.1936\n",
        "\n",
        "    P(Paly=Yes | Weather=Overcast, Temp=Mild) = P(Weather=Overcast, Temp=Mild | Play=Yes) P(Play=Yes) / P(Weather=Overcast, Temp=Mild)= 0.1936 * 0.64 / 0.1224 = 1"
      ]
    },
    {
      "cell_type": "markdown",
      "metadata": {
        "id": "JQNU2O7iwNS0"
      },
      "source": [
        "- 장점\n",
        "\n",
        "1. 간단하고, 빠르며, 정확한 모델\n",
        "\n",
        "2. computation cost가 작음\n",
        "\n",
        "3. 큰 데이터셋에 적합\n",
        "\n",
        "4. 연속형보다 이산형 데이터에서 성능이 좋음, DTM?\n",
        "\n",
        "5. Multiple class 예측을 위해서도 사용할 수 있음\n",
        "\n",
        "- 단점: feature 간의 독립성을 가정\n",
        " - **features are conditionally independent**\n",
        " - 실제 데이터에서 모든 feature가 독립인 경우는 없기에 \"Naive한 가정\"\n"
      ]
    },
    {
      "cell_type": "markdown",
      "source": [
        "- NB의 종류\n",
        " 1. GaussianNB → Feature가 연속형\n",
        " 2. CategoricalNB → Feature가 범주형\n",
        " 3. MultinomialNB → DTM에 활용"
      ],
      "metadata": {
        "id": "sRTjClY-ueG5"
      }
    },
    {
      "cell_type": "code",
      "metadata": {
        "id": "__LLiGdmn8vE"
      },
      "source": [
        "# Assigning features and label variables\n",
        "weather=['Sunny','Sunny','Overcast','Rainy','Rainy','Rainy','Overcast','Sunny','Sunny',\n",
        "'Rainy','Sunny','Overcast','Overcast','Rainy']\n",
        "temp=['Hot','Hot','Hot','Mild','Cool','Cool','Cool','Mild','Cool','Mild','Mild','Mild','Hot','Mild']\n",
        "\n",
        "play=['No','No','Yes','Yes','Yes','No','Yes','No','Yes','Yes','Yes','Yes','Yes','No']"
      ],
      "execution_count": null,
      "outputs": []
    },
    {
      "cell_type": "code",
      "metadata": {
        "colab": {
          "base_uri": "https://localhost:8080/"
        },
        "id": "5RQYm3wLn80T",
        "outputId": "d90ecf4a-dd25-4838-e9c1-1e63c4dba68f"
      },
      "source": [
        "# Import LabelEncoder\n",
        "from sklearn import preprocessing\n",
        "\n",
        "#creating labelEncoder\n",
        "le = preprocessing.LabelEncoder()\n",
        "# Converting string labels into numbers.|\n",
        "weather_encoded=le.fit_transform(weather)\n",
        "print(weather_encoded)"
      ],
      "execution_count": null,
      "outputs": [
        {
          "output_type": "stream",
          "name": "stdout",
          "text": [
            "[2 2 0 1 1 1 0 2 2 1 2 0 0 1]\n"
          ]
        }
      ]
    },
    {
      "cell_type": "code",
      "source": [
        "temp_encoded = le.fit_transform(temp)\n",
        "label = le.fit_transform(play)\n",
        "print(\"Temp:\", temp_encoded)\n",
        "print(\"Play:\", label)"
      ],
      "metadata": {
        "colab": {
          "base_uri": "https://localhost:8080/"
        },
        "id": "wm2MzHwmQP76",
        "outputId": "0b99f098-e390-41ca-c887-0cf7bc9d10be"
      },
      "execution_count": null,
      "outputs": [
        {
          "output_type": "stream",
          "name": "stdout",
          "text": [
            "Temp: [1 1 1 2 0 0 0 2 0 2 2 2 1 2]\n",
            "Play: [0 0 1 1 1 0 1 0 1 1 1 1 1 0]\n"
          ]
        }
      ]
    },
    {
      "cell_type": "code",
      "metadata": {
        "colab": {
          "base_uri": "https://localhost:8080/"
        },
        "id": "GSwfzhtPn82V",
        "outputId": "d781cdeb-a2ac-41ed-c8b7-3578a61eb95f"
      },
      "source": [
        "# Converting string labels into numbers\n",
        "temp_encoded=le.fit_transform(temp)\n",
        "label=le.fit_transform(play)\n",
        "print(\"Temp:\",temp_encoded)\n",
        "print(\"Play:\",label)"
      ],
      "execution_count": null,
      "outputs": [
        {
          "output_type": "stream",
          "name": "stdout",
          "text": [
            "Temp: [1 1 1 2 0 0 0 2 0 2 2 2 1 2]\n",
            "Play: [0 0 1 1 1 0 1 0 1 1 1 1 1 0]\n"
          ]
        }
      ]
    },
    {
      "cell_type": "code",
      "metadata": {
        "colab": {
          "base_uri": "https://localhost:8080/"
        },
        "id": "n7ZiK31Tn859",
        "outputId": "fbac51fc-be91-44f4-ec61-b48ab0d4cd27"
      },
      "source": [
        "import pandas as pd\n",
        "features = pd.DataFrame({\"temp\":temp_encoded, \"weather\":weather_encoded})\n",
        "print(features)"
      ],
      "execution_count": null,
      "outputs": [
        {
          "output_type": "stream",
          "name": "stdout",
          "text": [
            "    temp  weather\n",
            "0      1        2\n",
            "1      1        2\n",
            "2      1        0\n",
            "3      2        1\n",
            "4      0        1\n",
            "5      0        1\n",
            "6      0        0\n",
            "7      2        2\n",
            "8      0        2\n",
            "9      2        1\n",
            "10     2        2\n",
            "11     2        0\n",
            "12     1        0\n",
            "13     2        1\n"
          ]
        }
      ]
    },
    {
      "cell_type": "code",
      "metadata": {
        "id": "tcFk4pZgn879",
        "colab": {
          "base_uri": "https://localhost:8080/"
        },
        "outputId": "875bfe01-1f8c-4e03-eb36-5df4400a6f10"
      },
      "source": [
        "#Import Gaussian Naive Bayes model\n",
        "from sklearn.naive_bayes import GaussianNB\n",
        "\n",
        "#Create a Gaussian Classifier\n",
        "model = GaussianNB()\n",
        "\n",
        "# Train the model using the training sets\n",
        "model.fit(features,label)\n",
        "\n",
        "#Predict Output\n",
        "predicted= model.predict([[0,2]]) # 0:Overcast, 2:Mild\n",
        "print(\"Predicted Value:\", predicted)"
      ],
      "execution_count": null,
      "outputs": [
        {
          "output_type": "stream",
          "name": "stdout",
          "text": [
            "Predicted Value: [0]\n"
          ]
        },
        {
          "output_type": "stream",
          "name": "stderr",
          "text": [
            "/usr/local/lib/python3.10/dist-packages/sklearn/base.py:439: UserWarning: X does not have valid feature names, but GaussianNB was fitted with feature names\n",
            "  warnings.warn(\n"
          ]
        }
      ]
    },
    {
      "cell_type": "markdown",
      "metadata": {
        "id": "GRGLAOnYv9E4"
      },
      "source": [
        "- NB 연습(target의 범주가 3 이상)"
      ]
    },
    {
      "cell_type": "code",
      "metadata": {
        "colab": {
          "base_uri": "https://localhost:8080/"
        },
        "id": "U-alN-Mln8-A",
        "outputId": "7fa7c467-848d-46e5-e030-49d7ca802be5"
      },
      "source": [
        "#Import scikit-learn dataset library\n",
        "from sklearn import datasets\n",
        "wine = datasets.load_wine()\n",
        "\n",
        "# print the names of the 13 features\n",
        "print(\"Features: \", wine.feature_names)\n",
        "\n",
        "# print the label type of wine(class_0, class_1, class_2)\n",
        "print(\"Labels: \", wine.target_names)"
      ],
      "execution_count": null,
      "outputs": [
        {
          "output_type": "stream",
          "name": "stdout",
          "text": [
            "Features:  ['alcohol', 'malic_acid', 'ash', 'alcalinity_of_ash', 'magnesium', 'total_phenols', 'flavanoids', 'nonflavanoid_phenols', 'proanthocyanins', 'color_intensity', 'hue', 'od280/od315_of_diluted_wines', 'proline']\n",
            "Labels:  ['class_0' 'class_1' 'class_2']\n"
          ]
        }
      ]
    },
    {
      "cell_type": "code",
      "metadata": {
        "colab": {
          "base_uri": "https://localhost:8080/"
        },
        "id": "4i4kmaakwCDN",
        "outputId": "8646169e-4e9a-4f1f-b99d-7fdd51becbf1"
      },
      "source": [
        "from sklearn.model_selection import train_test_split\n",
        "X_train, X_test, y_train, y_test = train_test_split(wine.data, wine.target, test_size=0.3, random_state=109)\n",
        "\n",
        "#Import Gaussian Naive Bayes model\n",
        "from sklearn.naive_bayes import GaussianNB\n",
        "gnb = GaussianNB()\n",
        "gnb.fit(X_train, y_train)\n",
        "y_pred = gnb.predict(X_test)\n",
        "\n",
        "from sklearn import metrics\n",
        "print(\"Accuracy:\", metrics.accuracy_score(y_test, y_pred))"
      ],
      "execution_count": null,
      "outputs": [
        {
          "output_type": "stream",
          "name": "stdout",
          "text": [
            "Accuracy: 0.9074074074074074\n"
          ]
        }
      ]
    },
    {
      "cell_type": "code",
      "source": [
        "from sklearn.model_selection import train_test_split\n",
        "X_train, X_test, y_train, y_test = train_test_split(wine.data, wine.target, test_size=0.3, random_state=0)\n",
        "\n",
        "from sklearn.naive_bayes import GaussianNB\n",
        "gnb = GaussianNB()\n",
        "gnb.fit(X_train, y_train)\n",
        "y_pred = gnb.predict(X_test)\n",
        "\n",
        "from sklearn import metrics\n",
        "print(\"Accuracy:\", metrics.accuracy_score(y_test, y_pred))"
      ],
      "metadata": {
        "id": "xuyRdnwjTeUm"
      },
      "execution_count": null,
      "outputs": []
    },
    {
      "cell_type": "markdown",
      "source": [
        "#3. SVM"
      ],
      "metadata": {
        "id": "r2-vB9jzui7a"
      }
    },
    {
      "cell_type": "code",
      "metadata": {
        "id": "tQZcNfSzukP3"
      },
      "source": [
        "import pandas as pd\n",
        "import numpy as np\n",
        "from sklearn.datasets import load_iris"
      ],
      "execution_count": 2,
      "outputs": []
    },
    {
      "cell_type": "code",
      "metadata": {
        "id": "TMKEnqwhukP3"
      },
      "source": [
        "iris = load_iris()"
      ],
      "execution_count": 3,
      "outputs": []
    },
    {
      "cell_type": "code",
      "metadata": {
        "colab": {
          "base_uri": "https://localhost:8080/"
        },
        "outputId": "e618c419-9614-4b0b-b8f7-396382d7b302",
        "id": "yJnBR_KJukP5"
      },
      "source": [
        "from sklearn.model_selection import train_test_split\n",
        "X_train,X_test,y_train,y_test = train_test_split(iris.data,iris.target,test_size = 0.2,random_state = 42)\n",
        "print(X_train.shape)\n",
        "print(X_test.shape)\n",
        "print(y_train.shape)\n",
        "print(y_test.shape)"
      ],
      "execution_count": 4,
      "outputs": [
        {
          "output_type": "stream",
          "name": "stdout",
          "text": [
            "(120, 4)\n",
            "(30, 4)\n",
            "(120,)\n",
            "(30,)\n"
          ]
        }
      ]
    },
    {
      "cell_type": "code",
      "metadata": {
        "colab": {
          "base_uri": "https://localhost:8080/",
          "height": 74
        },
        "outputId": "6fb9ade2-17f6-474b-f9aa-e9826c2687f4",
        "id": "UpKoFsmZukP6"
      },
      "source": [
        "from sklearn.svm import SVC\n",
        "svm = SVC()\n",
        "svm.fit(X_train,y_train)"
      ],
      "execution_count": 5,
      "outputs": [
        {
          "output_type": "execute_result",
          "data": {
            "text/plain": [
              "SVC()"
            ],
            "text/html": [
              "<style>#sk-container-id-1 {color: black;background-color: white;}#sk-container-id-1 pre{padding: 0;}#sk-container-id-1 div.sk-toggleable {background-color: white;}#sk-container-id-1 label.sk-toggleable__label {cursor: pointer;display: block;width: 100%;margin-bottom: 0;padding: 0.3em;box-sizing: border-box;text-align: center;}#sk-container-id-1 label.sk-toggleable__label-arrow:before {content: \"▸\";float: left;margin-right: 0.25em;color: #696969;}#sk-container-id-1 label.sk-toggleable__label-arrow:hover:before {color: black;}#sk-container-id-1 div.sk-estimator:hover label.sk-toggleable__label-arrow:before {color: black;}#sk-container-id-1 div.sk-toggleable__content {max-height: 0;max-width: 0;overflow: hidden;text-align: left;background-color: #f0f8ff;}#sk-container-id-1 div.sk-toggleable__content pre {margin: 0.2em;color: black;border-radius: 0.25em;background-color: #f0f8ff;}#sk-container-id-1 input.sk-toggleable__control:checked~div.sk-toggleable__content {max-height: 200px;max-width: 100%;overflow: auto;}#sk-container-id-1 input.sk-toggleable__control:checked~label.sk-toggleable__label-arrow:before {content: \"▾\";}#sk-container-id-1 div.sk-estimator input.sk-toggleable__control:checked~label.sk-toggleable__label {background-color: #d4ebff;}#sk-container-id-1 div.sk-label input.sk-toggleable__control:checked~label.sk-toggleable__label {background-color: #d4ebff;}#sk-container-id-1 input.sk-hidden--visually {border: 0;clip: rect(1px 1px 1px 1px);clip: rect(1px, 1px, 1px, 1px);height: 1px;margin: -1px;overflow: hidden;padding: 0;position: absolute;width: 1px;}#sk-container-id-1 div.sk-estimator {font-family: monospace;background-color: #f0f8ff;border: 1px dotted black;border-radius: 0.25em;box-sizing: border-box;margin-bottom: 0.5em;}#sk-container-id-1 div.sk-estimator:hover {background-color: #d4ebff;}#sk-container-id-1 div.sk-parallel-item::after {content: \"\";width: 100%;border-bottom: 1px solid gray;flex-grow: 1;}#sk-container-id-1 div.sk-label:hover label.sk-toggleable__label {background-color: #d4ebff;}#sk-container-id-1 div.sk-serial::before {content: \"\";position: absolute;border-left: 1px solid gray;box-sizing: border-box;top: 0;bottom: 0;left: 50%;z-index: 0;}#sk-container-id-1 div.sk-serial {display: flex;flex-direction: column;align-items: center;background-color: white;padding-right: 0.2em;padding-left: 0.2em;position: relative;}#sk-container-id-1 div.sk-item {position: relative;z-index: 1;}#sk-container-id-1 div.sk-parallel {display: flex;align-items: stretch;justify-content: center;background-color: white;position: relative;}#sk-container-id-1 div.sk-item::before, #sk-container-id-1 div.sk-parallel-item::before {content: \"\";position: absolute;border-left: 1px solid gray;box-sizing: border-box;top: 0;bottom: 0;left: 50%;z-index: -1;}#sk-container-id-1 div.sk-parallel-item {display: flex;flex-direction: column;z-index: 1;position: relative;background-color: white;}#sk-container-id-1 div.sk-parallel-item:first-child::after {align-self: flex-end;width: 50%;}#sk-container-id-1 div.sk-parallel-item:last-child::after {align-self: flex-start;width: 50%;}#sk-container-id-1 div.sk-parallel-item:only-child::after {width: 0;}#sk-container-id-1 div.sk-dashed-wrapped {border: 1px dashed gray;margin: 0 0.4em 0.5em 0.4em;box-sizing: border-box;padding-bottom: 0.4em;background-color: white;}#sk-container-id-1 div.sk-label label {font-family: monospace;font-weight: bold;display: inline-block;line-height: 1.2em;}#sk-container-id-1 div.sk-label-container {text-align: center;}#sk-container-id-1 div.sk-container {/* jupyter's `normalize.less` sets `[hidden] { display: none; }` but bootstrap.min.css set `[hidden] { display: none !important; }` so we also need the `!important` here to be able to override the default hidden behavior on the sphinx rendered scikit-learn.org. See: https://github.com/scikit-learn/scikit-learn/issues/21755 */display: inline-block !important;position: relative;}#sk-container-id-1 div.sk-text-repr-fallback {display: none;}</style><div id=\"sk-container-id-1\" class=\"sk-top-container\"><div class=\"sk-text-repr-fallback\"><pre>SVC()</pre><b>In a Jupyter environment, please rerun this cell to show the HTML representation or trust the notebook. <br />On GitHub, the HTML representation is unable to render, please try loading this page with nbviewer.org.</b></div><div class=\"sk-container\" hidden><div class=\"sk-item\"><div class=\"sk-estimator sk-toggleable\"><input class=\"sk-toggleable__control sk-hidden--visually\" id=\"sk-estimator-id-1\" type=\"checkbox\" checked><label for=\"sk-estimator-id-1\" class=\"sk-toggleable__label sk-toggleable__label-arrow\">SVC</label><div class=\"sk-toggleable__content\"><pre>SVC()</pre></div></div></div></div></div>"
            ]
          },
          "metadata": {},
          "execution_count": 5
        }
      ]
    },
    {
      "cell_type": "code",
      "metadata": {
        "colab": {
          "base_uri": "https://localhost:8080/"
        },
        "outputId": "46a311c0-eb38-4576-e2e0-924bf1dca278",
        "id": "P6Bf5908ukP6"
      },
      "source": [
        "print('accuracy : {:.2f}'.format(svm.score(X_test,y_test)))"
      ],
      "execution_count": 6,
      "outputs": [
        {
          "output_type": "stream",
          "name": "stdout",
          "text": [
            "accuracy : 1.00\n"
          ]
        }
      ]
    },
    {
      "cell_type": "code",
      "source": [
        "y_predict = svm.predict(X_test)"
      ],
      "metadata": {
        "id": "6_VnkVOZvTWQ"
      },
      "execution_count": 7,
      "outputs": []
    },
    {
      "cell_type": "code",
      "source": [
        "from sklearn.metrics import classification_report\n",
        "print(classification_report(y_test,y_predict))"
      ],
      "metadata": {
        "colab": {
          "base_uri": "https://localhost:8080/"
        },
        "id": "HpoN8sopvKVY",
        "outputId": "2a93e074-5ebb-4630-82cb-94d9b6ba2c19"
      },
      "execution_count": 8,
      "outputs": [
        {
          "output_type": "stream",
          "name": "stdout",
          "text": [
            "              precision    recall  f1-score   support\n",
            "\n",
            "           0       1.00      1.00      1.00        10\n",
            "           1       1.00      1.00      1.00         9\n",
            "           2       1.00      1.00      1.00        11\n",
            "\n",
            "    accuracy                           1.00        30\n",
            "   macro avg       1.00      1.00      1.00        30\n",
            "weighted avg       1.00      1.00      1.00        30\n",
            "\n"
          ]
        }
      ]
    },
    {
      "cell_type": "markdown",
      "source": [
        "### gridsearch"
      ],
      "metadata": {
        "id": "SYuN2OfNvF2A"
      }
    },
    {
      "cell_type": "code",
      "source": [
        "from sklearn.model_selection import GridSearchCV\n",
        "\n",
        "models = GridSearchCV(estimator=SVC(), param_grid={\"C\":[0.5,1, 2], \"gamma\":[0.01, 0.1, 1.0]}, scoring=\"accuracy\", cv=3)\n",
        "models.fit(X_train,y_train)"
      ],
      "metadata": {
        "colab": {
          "base_uri": "https://localhost:8080/",
          "height": 116
        },
        "id": "GaVm6MzevHoQ",
        "outputId": "8db74778-7599-493e-ab0d-f26d842abb9f"
      },
      "execution_count": 9,
      "outputs": [
        {
          "output_type": "execute_result",
          "data": {
            "text/plain": [
              "GridSearchCV(cv=3, estimator=SVC(),\n",
              "             param_grid={'C': [0.5, 1, 2], 'gamma': [0.01, 0.1, 1.0]},\n",
              "             scoring='accuracy')"
            ],
            "text/html": [
              "<style>#sk-container-id-2 {color: black;background-color: white;}#sk-container-id-2 pre{padding: 0;}#sk-container-id-2 div.sk-toggleable {background-color: white;}#sk-container-id-2 label.sk-toggleable__label {cursor: pointer;display: block;width: 100%;margin-bottom: 0;padding: 0.3em;box-sizing: border-box;text-align: center;}#sk-container-id-2 label.sk-toggleable__label-arrow:before {content: \"▸\";float: left;margin-right: 0.25em;color: #696969;}#sk-container-id-2 label.sk-toggleable__label-arrow:hover:before {color: black;}#sk-container-id-2 div.sk-estimator:hover label.sk-toggleable__label-arrow:before {color: black;}#sk-container-id-2 div.sk-toggleable__content {max-height: 0;max-width: 0;overflow: hidden;text-align: left;background-color: #f0f8ff;}#sk-container-id-2 div.sk-toggleable__content pre {margin: 0.2em;color: black;border-radius: 0.25em;background-color: #f0f8ff;}#sk-container-id-2 input.sk-toggleable__control:checked~div.sk-toggleable__content {max-height: 200px;max-width: 100%;overflow: auto;}#sk-container-id-2 input.sk-toggleable__control:checked~label.sk-toggleable__label-arrow:before {content: \"▾\";}#sk-container-id-2 div.sk-estimator input.sk-toggleable__control:checked~label.sk-toggleable__label {background-color: #d4ebff;}#sk-container-id-2 div.sk-label input.sk-toggleable__control:checked~label.sk-toggleable__label {background-color: #d4ebff;}#sk-container-id-2 input.sk-hidden--visually {border: 0;clip: rect(1px 1px 1px 1px);clip: rect(1px, 1px, 1px, 1px);height: 1px;margin: -1px;overflow: hidden;padding: 0;position: absolute;width: 1px;}#sk-container-id-2 div.sk-estimator {font-family: monospace;background-color: #f0f8ff;border: 1px dotted black;border-radius: 0.25em;box-sizing: border-box;margin-bottom: 0.5em;}#sk-container-id-2 div.sk-estimator:hover {background-color: #d4ebff;}#sk-container-id-2 div.sk-parallel-item::after {content: \"\";width: 100%;border-bottom: 1px solid gray;flex-grow: 1;}#sk-container-id-2 div.sk-label:hover label.sk-toggleable__label {background-color: #d4ebff;}#sk-container-id-2 div.sk-serial::before {content: \"\";position: absolute;border-left: 1px solid gray;box-sizing: border-box;top: 0;bottom: 0;left: 50%;z-index: 0;}#sk-container-id-2 div.sk-serial {display: flex;flex-direction: column;align-items: center;background-color: white;padding-right: 0.2em;padding-left: 0.2em;position: relative;}#sk-container-id-2 div.sk-item {position: relative;z-index: 1;}#sk-container-id-2 div.sk-parallel {display: flex;align-items: stretch;justify-content: center;background-color: white;position: relative;}#sk-container-id-2 div.sk-item::before, #sk-container-id-2 div.sk-parallel-item::before {content: \"\";position: absolute;border-left: 1px solid gray;box-sizing: border-box;top: 0;bottom: 0;left: 50%;z-index: -1;}#sk-container-id-2 div.sk-parallel-item {display: flex;flex-direction: column;z-index: 1;position: relative;background-color: white;}#sk-container-id-2 div.sk-parallel-item:first-child::after {align-self: flex-end;width: 50%;}#sk-container-id-2 div.sk-parallel-item:last-child::after {align-self: flex-start;width: 50%;}#sk-container-id-2 div.sk-parallel-item:only-child::after {width: 0;}#sk-container-id-2 div.sk-dashed-wrapped {border: 1px dashed gray;margin: 0 0.4em 0.5em 0.4em;box-sizing: border-box;padding-bottom: 0.4em;background-color: white;}#sk-container-id-2 div.sk-label label {font-family: monospace;font-weight: bold;display: inline-block;line-height: 1.2em;}#sk-container-id-2 div.sk-label-container {text-align: center;}#sk-container-id-2 div.sk-container {/* jupyter's `normalize.less` sets `[hidden] { display: none; }` but bootstrap.min.css set `[hidden] { display: none !important; }` so we also need the `!important` here to be able to override the default hidden behavior on the sphinx rendered scikit-learn.org. See: https://github.com/scikit-learn/scikit-learn/issues/21755 */display: inline-block !important;position: relative;}#sk-container-id-2 div.sk-text-repr-fallback {display: none;}</style><div id=\"sk-container-id-2\" class=\"sk-top-container\"><div class=\"sk-text-repr-fallback\"><pre>GridSearchCV(cv=3, estimator=SVC(),\n",
              "             param_grid={&#x27;C&#x27;: [0.5, 1, 2], &#x27;gamma&#x27;: [0.01, 0.1, 1.0]},\n",
              "             scoring=&#x27;accuracy&#x27;)</pre><b>In a Jupyter environment, please rerun this cell to show the HTML representation or trust the notebook. <br />On GitHub, the HTML representation is unable to render, please try loading this page with nbviewer.org.</b></div><div class=\"sk-container\" hidden><div class=\"sk-item sk-dashed-wrapped\"><div class=\"sk-label-container\"><div class=\"sk-label sk-toggleable\"><input class=\"sk-toggleable__control sk-hidden--visually\" id=\"sk-estimator-id-2\" type=\"checkbox\" ><label for=\"sk-estimator-id-2\" class=\"sk-toggleable__label sk-toggleable__label-arrow\">GridSearchCV</label><div class=\"sk-toggleable__content\"><pre>GridSearchCV(cv=3, estimator=SVC(),\n",
              "             param_grid={&#x27;C&#x27;: [0.5, 1, 2], &#x27;gamma&#x27;: [0.01, 0.1, 1.0]},\n",
              "             scoring=&#x27;accuracy&#x27;)</pre></div></div></div><div class=\"sk-parallel\"><div class=\"sk-parallel-item\"><div class=\"sk-item\"><div class=\"sk-label-container\"><div class=\"sk-label sk-toggleable\"><input class=\"sk-toggleable__control sk-hidden--visually\" id=\"sk-estimator-id-3\" type=\"checkbox\" ><label for=\"sk-estimator-id-3\" class=\"sk-toggleable__label sk-toggleable__label-arrow\">estimator: SVC</label><div class=\"sk-toggleable__content\"><pre>SVC()</pre></div></div></div><div class=\"sk-serial\"><div class=\"sk-item\"><div class=\"sk-estimator sk-toggleable\"><input class=\"sk-toggleable__control sk-hidden--visually\" id=\"sk-estimator-id-4\" type=\"checkbox\" ><label for=\"sk-estimator-id-4\" class=\"sk-toggleable__label sk-toggleable__label-arrow\">SVC</label><div class=\"sk-toggleable__content\"><pre>SVC()</pre></div></div></div></div></div></div></div></div></div></div>"
            ]
          },
          "metadata": {},
          "execution_count": 9
        }
      ]
    },
    {
      "cell_type": "code",
      "source": [
        "print(models.best_estimator_)\n",
        "print(models.best_params_)\n",
        "print(models.best_score_)"
      ],
      "metadata": {
        "colab": {
          "base_uri": "https://localhost:8080/"
        },
        "id": "r4cEGQDdu3_C",
        "outputId": "0c274bc2-8c92-4129-d722-7d0f10762ef3"
      },
      "execution_count": 14,
      "outputs": [
        {
          "output_type": "stream",
          "name": "stdout",
          "text": [
            "SVC(C=0.5, gamma=0.1)\n",
            "{'C': 0.5, 'gamma': 0.1}\n",
            "0.9666666666666667\n"
          ]
        }
      ]
    },
    {
      "cell_type": "code",
      "source": [],
      "metadata": {
        "id": "ho-CBK_TZZhz"
      },
      "execution_count": null,
      "outputs": []
    }
  ]
}