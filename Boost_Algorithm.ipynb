{
  "nbformat": 4,
  "nbformat_minor": 0,
  "metadata": {
    "colab": {
      "provenance": [],
      "authorship_tag": "ABX9TyOwCVKgz1uiSpPLgpHmAbYx",
      "include_colab_link": true
    },
    "kernelspec": {
      "name": "python3",
      "display_name": "Python 3"
    },
    "language_info": {
      "name": "python"
    }
  },
  "cells": [
    {
      "cell_type": "markdown",
      "metadata": {
        "id": "view-in-github",
        "colab_type": "text"
      },
      "source": [
        "<a href=\"https://colab.research.google.com/github/NaHyeon1Kim/Modeling/blob/main/Boost_Algorithm.ipynb\" target=\"_parent\"><img src=\"https://colab.research.google.com/assets/colab-badge.svg\" alt=\"Open In Colab\"/></a>"
      ]
    },
    {
      "cell_type": "markdown",
      "source": [
        "0. Adaboost"
      ],
      "metadata": {
        "id": "5YgN29JhewNY"
      }
    },
    {
      "cell_type": "code",
      "execution_count": 10,
      "metadata": {
        "id": "THkrBvraekcL"
      },
      "outputs": [],
      "source": [
        "from sklearn.ensemble import AdaBoostClassifier, RandomForestClassifier\n",
        "from sklearn.model_selection import train_test_split"
      ]
    },
    {
      "cell_type": "code",
      "source": [
        "# binary.csv 파일, 파티셔닝 8:2\n",
        "binary = pd.read_csv(\"binary.csv\")\n",
        "y = binary.admit\n",
        "X = binary.drop(\"admit\", axis=1)\n",
        "\n",
        "X_train, X_test, y_train, y_test = train_test_split( X, y, test_size=0.2, stratify = y)\n",
        "boost = AdaBoostClassifier().fit( X_train, y_train)\n",
        "rf = RandomForestClassifier().fit( X_train, y_train)\n",
        "\n",
        "print( boost.score( X_test, y_test) )\n",
        "rf.score( X_test, y_test)"
      ],
      "metadata": {
        "id": "hB9ZYTdqepy_",
        "colab": {
          "base_uri": "https://localhost:8080/"
        },
        "outputId": "636b1038-49cd-4935-9d26-dbb4bedd7fad"
      },
      "execution_count": 11,
      "outputs": [
        {
          "output_type": "stream",
          "name": "stdout",
          "text": [
            "0.675\n"
          ]
        },
        {
          "output_type": "execute_result",
          "data": {
            "text/plain": [
              "0.6625"
            ]
          },
          "metadata": {},
          "execution_count": 11
        }
      ]
    },
    {
      "cell_type": "markdown",
      "source": [
        "1. GradientBoost"
      ],
      "metadata": {
        "id": "4Rb5On-ee2sV"
      }
    },
    {
      "cell_type": "code",
      "source": [
        "from numpy import mean\n",
        "from numpy import std\n",
        "from sklearn.ensemble import GradientBoostingClassifier\n",
        "from sklearn.model_selection import cross_val_score\n",
        "from sklearn.model_selection import RepeatedStratifiedKFold\n",
        "from matplotlib import pyplot\n",
        "\n",
        "X_train, X_test, y_train, y_test = train_test_split( X, y, test_size=0.2 )"
      ],
      "metadata": {
        "id": "QBSp3iFne5yI"
      },
      "execution_count": 12,
      "outputs": []
    },
    {
      "cell_type": "code",
      "source": [
        "#피팅\n",
        "from sklearn.ensemble import AdaBoostClassifier\n",
        "from lightgbm import LGBMClassifier\n",
        "from xgboost import XGBClassifier\n",
        "model = GradientBoostingClassifier(learning_rate=0.05,\n",
        "                                   n_estimators=200).fit(X_train, y_train)\n",
        "model2 = AdaBoostClassifier(learning_rate=0.05,\n",
        "                                   n_estimators=200).fit( X_train, y_train)\n",
        "model3 = RandomForestClassifier().fit( X_train, y_train)\n",
        "model4 = XGBClassifier().fit( X_train, y_train)\n",
        "model5 = LGBMClassifier().fit( X_train, y_train)"
      ],
      "metadata": {
        "id": "rUCfqINqe9ur"
      },
      "execution_count": null,
      "outputs": []
    },
    {
      "cell_type": "code",
      "source": [
        "print(model.score(X_test, y_test))\n",
        "print(model2.score(X_test, y_test))\n",
        "print(model3.score(X_test, y_test))\n",
        "print(model4.score(X_test, y_test))\n",
        "print(model5.score(X_test, y_test))"
      ],
      "metadata": {
        "id": "cOMK5n3ifCjS",
        "colab": {
          "base_uri": "https://localhost:8080/"
        },
        "outputId": "71d848bc-586f-4082-8d6b-0da503c2eb5e"
      },
      "execution_count": 14,
      "outputs": [
        {
          "output_type": "stream",
          "name": "stdout",
          "text": [
            "0.6375\n",
            "0.75\n",
            "0.7\n",
            "0.6375\n",
            "0.7\n"
          ]
        }
      ]
    },
    {
      "cell_type": "code",
      "source": [
        "# k-foldCV\n",
        "model = GradientBoostingClassifier()\n",
        "cv = RepeatedStratifiedKFold(n_splits=10, n_repeats=3, random_state=1)\n",
        "n_scores = cross_val_score(model, X_train, y_train, scoring='accuracy', cv=cv, n_jobs=-1, error_score='raise')\n",
        "print('Accuracy: %.3f (%.3f)' % (mean(n_scores), std(n_scores)))"
      ],
      "metadata": {
        "id": "XIpjQwQMfFhx",
        "colab": {
          "base_uri": "https://localhost:8080/"
        },
        "outputId": "2b941461-1b20-4195-ab5c-a8931475f9f0"
      },
      "execution_count": 15,
      "outputs": [
        {
          "output_type": "stream",
          "name": "stdout",
          "text": [
            "Accuracy: 0.675 (0.073)\n"
          ]
        }
      ]
    },
    {
      "cell_type": "code",
      "source": [
        "#GridSearchCV\n",
        "from sklearn.model_selection import GridSearchCV, RandomizedSearchCV\n",
        "xparam = {\"learning_rate\":[0.05, 0.1, 0.15], \"n_estimators\":[50,100,150]}\n",
        "xgb_cv = GridSearchCV( XGBClassifier(), xparam ).fit( X_train, y_train)"
      ],
      "metadata": {
        "id": "8rLivvIwgmoi"
      },
      "execution_count": 16,
      "outputs": []
    },
    {
      "cell_type": "code",
      "source": [
        "best = xgb_cv.best_estimator_ #cv결과 중 제일 좋은 모형\n",
        "best.score(X_test, y_test)"
      ],
      "metadata": {
        "colab": {
          "base_uri": "https://localhost:8080/"
        },
        "id": "gGQ2cW4AgoEQ",
        "outputId": "d7d0f9b9-2946-45eb-b6de-6721304e327f"
      },
      "execution_count": 17,
      "outputs": [
        {
          "output_type": "execute_result",
          "data": {
            "text/plain": [
              "0.675"
            ]
          },
          "metadata": {},
          "execution_count": 17
        }
      ]
    },
    {
      "cell_type": "code",
      "source": [
        "# 분류, xgboost for classification\n",
        "from numpy import asarray\n",
        "from numpy import mean\n",
        "from numpy import std\n",
        "from sklearn.datasets import make_classification\n",
        "from xgboost import XGBClassifier\n",
        "from sklearn.model_selection import cross_val_score\n",
        "from sklearn.model_selection import RepeatedStratifiedKFold\n",
        "from matplotlib import pyplot\n",
        "\n",
        "# define dataset\n",
        "X, y = make_classification(n_samples=1000, n_features=10, n_informative=5, n_redundant=5, random_state=1)\n",
        "\n",
        "# evaluate the model\n",
        "model = XGBClassifier()\n",
        "cv = RepeatedStratifiedKFold(n_splits=10, n_repeats=3, random_state=1)\n",
        "n_scores = cross_val_score(model, X, y, scoring='accuracy', cv=cv, n_jobs=-1, error_score='raise')\n",
        "print('Accuracy: %.3f (%.3f)' % (mean(n_scores), std(n_scores)))\n",
        "\n",
        "# fit\n",
        "model = XGBClassifier()\n",
        "model.fit(X, y)\n",
        "\n",
        "# prediction\n",
        "row = [2.56999479, -0.13019997, 3.16075093, -4.35936352, -1.61271951, -1.39352057, -2.48924933, -1.93094078, 3.26130366, 2.05692145]\n",
        "row = asarray(row).reshape((1, len(row)))\n",
        "yhat = model.predict(row)\n",
        "print('Prediction: %d' % yhat)"
      ],
      "metadata": {
        "colab": {
          "base_uri": "https://localhost:8080/"
        },
        "id": "sPNvhPhOgriR",
        "outputId": "e2a55748-801f-4302-d8dc-6e92636efe2c"
      },
      "execution_count": 18,
      "outputs": [
        {
          "output_type": "stream",
          "name": "stdout",
          "text": [
            "Accuracy: 0.933 (0.022)\n",
            "Prediction: 1\n"
          ]
        }
      ]
    },
    {
      "cell_type": "markdown",
      "metadata": {
        "id": "PhmUchYT1aAo"
      },
      "source": [
        "### 3.Gradient Boosting With XGBoost\n",
        "- Extreme Gradient Boosting을 의미하며, sklearn 대신 xgboost 라이브러리 이용\n",
        "- 계산 효율성을 높이며, 성능도 개선\n",
        "- colab에 설치되어 있으며 필요 시 !pip install xgboost\n",
        "- XGBClassifier와 XGBregressor 제공\n"
      ]
    },
    {
      "cell_type": "code",
      "source": [
        "# 분류, xgboost for classification\n",
        "from numpy import asarray\n",
        "from numpy import mean\n",
        "from numpy import std\n",
        "from sklearn.datasets import make_classification\n",
        "from xgboost import XGBClassifier\n",
        "from sklearn.model_selection import cross_val_score\n",
        "from sklearn.model_selection import RepeatedStratifiedKFold\n",
        "from matplotlib import pyplot\n",
        "\n",
        "# define dataset\n",
        "X, y = make_classification(n_samples=1000, n_features=10, n_informative=5, n_redundant=5, random_state=1)\n",
        "\n",
        "# evaluate the model\n",
        "model = XGBClassifier()\n",
        "cv = RepeatedStratifiedKFold(n_splits=10, n_repeats=3, random_state=1)\n",
        "n_scores = cross_val_score(model, X, y, scoring='accuracy', cv=cv, n_jobs=-1, error_score='raise')\n",
        "print('Accuracy: %.3f (%.3f)' % (mean(n_scores), std(n_scores)))\n",
        "\n",
        "# fit\n",
        "model = XGBClassifier()\n",
        "model.fit(X, y)\n",
        "\n",
        "# prediction\n",
        "row = [2.56999479, -0.13019997, 3.16075093, -4.35936352, -1.61271951, -1.39352057, -2.48924933, -1.93094078, 3.26130366, 2.05692145]\n",
        "row = asarray(row).reshape((1, len(row)))\n",
        "yhat = model.predict(row)\n",
        "print('Prediction: %d' % yhat)"
      ],
      "metadata": {
        "colab": {
          "base_uri": "https://localhost:8080/"
        },
        "id": "x46ogi4phsB9",
        "outputId": "8b1ac13b-4fb3-4690-9094-09a52b2fc65a"
      },
      "execution_count": 19,
      "outputs": [
        {
          "output_type": "stream",
          "name": "stdout",
          "text": [
            "Accuracy: 0.933 (0.022)\n",
            "Prediction: 1\n"
          ]
        }
      ]
    },
    {
      "cell_type": "markdown",
      "metadata": {
        "id": "e4Fl3zOL1aMB"
      },
      "source": [
        "### 4.Gradient Boosting With LightGBM\n",
        "- Light Gradient Boosted Machine\n",
        "- MS에 의해 개발, 효율성이 강조된 GBM\n",
        "- 설치되어 있으며 필요 시 !pip install lightgbm\n",
        "- LGBMClassifier , LGBMRegressor classes.\n"
      ]
    },
    {
      "cell_type": "code",
      "source": [
        "# lightgbm for classification\n",
        "from numpy import mean\n",
        "from numpy import std\n",
        "from sklearn.datasets import make_classification\n",
        "from lightgbm import LGBMClassifier\n",
        "from sklearn.model_selection import cross_val_score\n",
        "from sklearn.model_selection import RepeatedStratifiedKFold\n",
        "from matplotlib import pyplot\n",
        "\n",
        "# define dataset\n",
        "X, y = make_classification(n_samples=1000, n_features=10, n_informative=5, n_redundant=5, random_state=1)\n",
        "\n",
        "# evaluate the model\n",
        "model = LGBMClassifier()\n",
        "cv = RepeatedStratifiedKFold(n_splits=10, n_repeats=3, random_state=1)\n",
        "n_scores = cross_val_score(model, X, y, scoring='accuracy', cv=cv, n_jobs=-1, error_score='raise')\n",
        "print('Accuracy: %.3f (%.3f)' % (mean(n_scores), std(n_scores)))\n",
        "\n",
        "# fit\n",
        "model = LGBMClassifier()\n",
        "model.fit(X, y)\n",
        "\n",
        "# prediction\n",
        "row = [[2.56999479, -0.13019997, 3.16075093, -4.35936352, -1.61271951, -1.39352057, -2.48924933, -1.93094078, 3.26130366, 2.05692145]]\n",
        "yhat = model.predict(row)\n",
        "print('Prediction: %d' % yhat)"
      ],
      "metadata": {
        "colab": {
          "base_uri": "https://localhost:8080/"
        },
        "id": "NvQQOS4Oh5bD",
        "outputId": "4cd3e239-f42b-4a95-aba3-0f182bfa08ec"
      },
      "execution_count": 20,
      "outputs": [
        {
          "output_type": "stream",
          "name": "stdout",
          "text": [
            "Accuracy: 0.934 (0.021)\n",
            "[LightGBM] [Info] Number of positive: 501, number of negative: 499\n",
            "[LightGBM] [Info] Auto-choosing col-wise multi-threading, the overhead of testing was 0.000143 seconds.\n",
            "You can set `force_col_wise=true` to remove the overhead.\n",
            "[LightGBM] [Info] Total Bins 2550\n",
            "[LightGBM] [Info] Number of data points in the train set: 1000, number of used features: 10\n",
            "[LightGBM] [Info] [binary:BoostFromScore]: pavg=0.501000 -> initscore=0.004000\n",
            "[LightGBM] [Info] Start training from score 0.004000\n",
            "[LightGBM] [Warning] No further splits with positive gain, best gain: -inf\n",
            "Prediction: 1\n"
          ]
        }
      ]
    },
    {
      "cell_type": "markdown",
      "metadata": {
        "id": "dH-62off1aWk"
      },
      "source": [
        "### 5.Gradient Boosting with CatBoost\n",
        "- CatBoost는 Yandex가 개발한 라이브러리\n",
        "- 효율적으로 계산하여 속도 개선\n",
        "- 범주형 X변수에 대해 잘 작동: Category Gradient Boosting\n",
        "- 설치 안되어 있으므로, 다음을 이용해서 설치\n",
        "- !pip install catboost\n",
        "- CatBoostClassifier , CatBoostRegressor\n"
      ]
    },
    {
      "cell_type": "code",
      "source": [
        "!pip install catboost"
      ],
      "metadata": {
        "colab": {
          "base_uri": "https://localhost:8080/"
        },
        "id": "JnIWTs3Uh8l0",
        "outputId": "2af4c401-a750-405b-ae38-10fec03fc6ef"
      },
      "execution_count": 21,
      "outputs": [
        {
          "output_type": "stream",
          "name": "stdout",
          "text": [
            "Collecting catboost\n",
            "  Downloading catboost-1.2.2-cp310-cp310-manylinux2014_x86_64.whl (98.7 MB)\n",
            "\u001b[2K     \u001b[90m━━━━━━━━━━━━━━━━━━━━━━━━━━━━━━━━━━━━━━━━\u001b[0m \u001b[32m98.7/98.7 MB\u001b[0m \u001b[31m8.3 MB/s\u001b[0m eta \u001b[36m0:00:00\u001b[0m\n",
            "\u001b[?25hRequirement already satisfied: graphviz in /usr/local/lib/python3.10/dist-packages (from catboost) (0.20.1)\n",
            "Requirement already satisfied: matplotlib in /usr/local/lib/python3.10/dist-packages (from catboost) (3.7.1)\n",
            "Requirement already satisfied: numpy>=1.16.0 in /usr/local/lib/python3.10/dist-packages (from catboost) (1.23.5)\n",
            "Requirement already satisfied: pandas>=0.24 in /usr/local/lib/python3.10/dist-packages (from catboost) (1.5.3)\n",
            "Requirement already satisfied: scipy in /usr/local/lib/python3.10/dist-packages (from catboost) (1.11.3)\n",
            "Requirement already satisfied: plotly in /usr/local/lib/python3.10/dist-packages (from catboost) (5.15.0)\n",
            "Requirement already satisfied: six in /usr/local/lib/python3.10/dist-packages (from catboost) (1.16.0)\n",
            "Requirement already satisfied: python-dateutil>=2.8.1 in /usr/local/lib/python3.10/dist-packages (from pandas>=0.24->catboost) (2.8.2)\n",
            "Requirement already satisfied: pytz>=2020.1 in /usr/local/lib/python3.10/dist-packages (from pandas>=0.24->catboost) (2023.3.post1)\n",
            "Requirement already satisfied: contourpy>=1.0.1 in /usr/local/lib/python3.10/dist-packages (from matplotlib->catboost) (1.2.0)\n",
            "Requirement already satisfied: cycler>=0.10 in /usr/local/lib/python3.10/dist-packages (from matplotlib->catboost) (0.12.1)\n",
            "Requirement already satisfied: fonttools>=4.22.0 in /usr/local/lib/python3.10/dist-packages (from matplotlib->catboost) (4.44.3)\n",
            "Requirement already satisfied: kiwisolver>=1.0.1 in /usr/local/lib/python3.10/dist-packages (from matplotlib->catboost) (1.4.5)\n",
            "Requirement already satisfied: packaging>=20.0 in /usr/local/lib/python3.10/dist-packages (from matplotlib->catboost) (23.2)\n",
            "Requirement already satisfied: pillow>=6.2.0 in /usr/local/lib/python3.10/dist-packages (from matplotlib->catboost) (9.4.0)\n",
            "Requirement already satisfied: pyparsing>=2.3.1 in /usr/local/lib/python3.10/dist-packages (from matplotlib->catboost) (3.1.1)\n",
            "Requirement already satisfied: tenacity>=6.2.0 in /usr/local/lib/python3.10/dist-packages (from plotly->catboost) (8.2.3)\n",
            "Installing collected packages: catboost\n",
            "Successfully installed catboost-1.2.2\n"
          ]
        }
      ]
    },
    {
      "cell_type": "code",
      "source": [
        "# catboost for classification\n",
        "from numpy import mean\n",
        "from numpy import std\n",
        "from sklearn.datasets import make_classification\n",
        "from catboost import CatBoostClassifier\n",
        "from sklearn.model_selection import cross_val_score\n",
        "from sklearn.model_selection import RepeatedStratifiedKFold\n",
        "from matplotlib import pyplot\n",
        "\n",
        "# define dataset\n",
        "X, y = make_classification(n_samples=1000, n_features=10, n_informative=5, n_redundant=5, random_state=1)\n",
        "\n",
        "# evaluate the model\n",
        "model = CatBoostClassifier(verbose=0, n_estimators=100)\n",
        "cv = RepeatedStratifiedKFold(n_splits=10, n_repeats=3, random_state=1)\n",
        "n_scores = cross_val_score(model, X, y, scoring='accuracy', cv=cv, n_jobs=-1, error_score='raise')\n",
        "print('Accuracy: %.3f (%.3f)' % (mean(n_scores), std(n_scores)))\n",
        "\n",
        "# fit\n",
        "model = CatBoostClassifier(verbose=0, n_estimators=100)\n",
        "model.fit(X, y)\n",
        "\n",
        "# prediction\n",
        "row = [[2.56999479, -0.13019997, 3.16075093, -4.35936352, -1.61271951, -1.39352057, -2.48924933, -1.93094078, 3.26130366, 2.05692145]]\n",
        "yhat = model.predict(row)\n",
        "print('Prediction: %d' % yhat)"
      ],
      "metadata": {
        "colab": {
          "base_uri": "https://localhost:8080/"
        },
        "id": "NdRI7S8sh_G3",
        "outputId": "2b152f0e-39e0-4352-be45-e86d0a43fef3"
      },
      "execution_count": 22,
      "outputs": [
        {
          "output_type": "stream",
          "name": "stdout",
          "text": [
            "Accuracy: 0.925 (0.025)\n",
            "Prediction: 1\n"
          ]
        }
      ]
    },
    {
      "cell_type": "markdown",
      "metadata": {
        "id": "idNUV-k1iEdR"
      },
      "source": [
        "Papers\n",
        "-\tStochastic Gradient Boosting, 2002.\n",
        "-\tXGBoost: A Scalable Tree Boosting System, 2016.\n",
        "-\tLightGBM: A Highly Efficient Gradient Boosting Decision Tree, 2017.\n",
        "-\tCatBoost: gradient boosting with categorical features support, 2017.\n"
      ]
    },
    {
      "cell_type": "markdown",
      "metadata": {
        "id": "1ale48uD-ifh"
      },
      "source": [
        "# III. 연습\n",
        "1. sms.csv를 읽으셔서 type을 target으로 하는 분류 모형\n",
        "- 파티션 8:2 / 모형: XGBoost, RandomForest\n",
        "- 상대적으로 좋은 성능의 모형을 gridsearch\n",
        "- 테스트셋 예측->classification_report출력"
      ]
    },
    {
      "cell_type": "code",
      "execution_count": 7,
      "metadata": {
        "id": "NeX0Dlt44uCi"
      },
      "outputs": [],
      "source": [
        "#1. sms.csv\n",
        "import pandas as pd\n",
        "from sklearn.model_selection import train_test_split\n",
        "sms = pd.read_csv(\"sms.csv\")\n",
        "sms.dropna(inplace=True)\n",
        "X = sms.drop(\"type\", axis=1)\n",
        "y = sms.type\n",
        "X_train,X_test,y_train, y_test = train_test_split( X,y,\n",
        "                                                  test_size=0.2, stratify = y)"
      ]
    },
    {
      "cell_type": "code",
      "execution_count": 23,
      "metadata": {
        "id": "KIeNNrnhF88q"
      },
      "outputs": [],
      "source": [
        "model1 = XGBClassifier().fit(X_train, y_train)\n",
        "model2 = RandomForestClassifier().fit(X_train, y_train)"
      ]
    },
    {
      "cell_type": "code",
      "execution_count": 24,
      "metadata": {
        "colab": {
          "base_uri": "https://localhost:8080/"
        },
        "id": "0leNKqY0Geus",
        "outputId": "fb3a529f-8f71-4627-e504-f329b80a896e"
      },
      "outputs": [
        {
          "output_type": "stream",
          "name": "stdout",
          "text": [
            "0.9875\n",
            "0.996875\n"
          ]
        }
      ],
      "source": [
        "print(model1.score(X_train,y_train))\n",
        "print(model2.score(X_train,y_train))"
      ]
    },
    {
      "cell_type": "code",
      "execution_count": 25,
      "metadata": {
        "id": "uzSG-b_1G7Bj"
      },
      "outputs": [],
      "source": [
        "cv1 = GridSearchCV( RandomForestClassifier(), {\"n_estimators\":[250,300,350],\n",
        "                                               \"max_depth\":[2,3,4]}).fit(X_train, y_train)\n",
        "best1 = cv1.best_estimator_"
      ]
    },
    {
      "cell_type": "code",
      "execution_count": 26,
      "metadata": {
        "colab": {
          "base_uri": "https://localhost:8080/"
        },
        "id": "6IK88sClHhkF",
        "outputId": "577a45d0-db9c-4a6b-ba3d-acdcf675ea47"
      },
      "outputs": [
        {
          "output_type": "stream",
          "name": "stdout",
          "text": [
            "              precision    recall  f1-score   support\n",
            "\n",
            "           0       0.76      0.89      0.82        56\n",
            "           1       0.57      0.33      0.42        24\n",
            "\n",
            "    accuracy                           0.73        80\n",
            "   macro avg       0.66      0.61      0.62        80\n",
            "weighted avg       0.70      0.72      0.70        80\n",
            "\n"
          ]
        }
      ],
      "source": [
        "from sklearn.metrics import classification_report\n",
        "print( classification_report(y_test, best1.predict(X_test)) )"
      ]
    },
    {
      "cell_type": "markdown",
      "metadata": {
        "id": "Ivz-wmggk4Ww"
      },
      "source": [
        "2. train.csv를 읽으셔서 label을 target으로 하는 분류 모형\n",
        "- 모형: XGBoost, RandomForest\n",
        "- XGBoost, RandomForest 모형들을 gridsearch\n",
        "- test.csv를 읽은 테스트셋에 대해서 예측->classification_report출력으로 두 모형을 비교"
      ]
    },
    {
      "cell_type": "code",
      "execution_count": null,
      "metadata": {
        "id": "I46Evx8dIk_y"
      },
      "outputs": [],
      "source": [
        "#2. train.csv\n",
        "train = pd.read_csv(\"train.csv\")\n",
        "train.dropna(inplace=True)\n",
        "X_train = train.drop(\"label\", axis=1)\n",
        "y_train = train.label\n",
        "\n",
        "test = pd.read_csv(\"test.csv\")\n",
        "X_test = test.drop(\"label\", axis=1)\n",
        "y_test = test.label"
      ]
    },
    {
      "cell_type": "code",
      "source": [
        "X_train.shape"
      ],
      "metadata": {
        "colab": {
          "base_uri": "https://localhost:8080/"
        },
        "id": "dpI8mv6UqraP",
        "outputId": "c8ddeabd-99fa-4b1f-cbc9-bb9d183bea30"
      },
      "execution_count": null,
      "outputs": [
        {
          "output_type": "execute_result",
          "data": {
            "text/plain": [
              "(5000, 784)"
            ]
          },
          "metadata": {},
          "execution_count": 27
        }
      ]
    },
    {
      "cell_type": "code",
      "execution_count": null,
      "metadata": {
        "id": "D9X6LeM5Kmx1",
        "colab": {
          "base_uri": "https://localhost:8080/",
          "height": 437
        },
        "outputId": "d552d8cf-eef8-495f-826d-612256846033"
      },
      "outputs": [
        {
          "output_type": "display_data",
          "data": {
            "text/plain": [
              "<Figure size 480x480 with 1 Axes>"
            ],
            "image/png": "[encoded data removed]"
          },
          "metadata": {}
        }
      ],
      "source": [
        "import matplotlib.pyplot as plt\n",
        "\n",
        "plt.matshow(X_train.values[0].reshape(28,28), cmap=plt.cm.gray)\n",
        "plt.show()"
      ]
    },
    {
      "cell_type": "code",
      "execution_count": null,
      "metadata": {
        "id": "yOob4qX7JHVH",
        "colab": {
          "base_uri": "https://localhost:8080/"
        },
        "outputId": "08480288-ee89-462d-d332-57e118762f1a"
      },
      "outputs": [
        {
          "output_type": "stream",
          "name": "stdout",
          "text": [
            "Fitting 2 folds for each of 1 candidates, totalling 2 fits\n",
            "[CV 1/2] END learning_rate=0.1, n_estimators=100;, score=0.910 total time= 1.3min\n",
            "[CV 2/2] END learning_rate=0.1, n_estimators=100;, score=0.911 total time= 1.1min\n",
            "              precision    recall  f1-score   support\n",
            "\n",
            "           0       0.98      0.96      0.97       100\n",
            "           1       0.96      0.98      0.97       100\n",
            "           2       0.92      0.96      0.94       100\n",
            "           3       0.96      0.90      0.93       100\n",
            "           4       0.96      0.94      0.95       100\n",
            "           5       0.93      0.96      0.95       100\n",
            "           6       0.95      0.95      0.95       100\n",
            "           7       0.95      0.95      0.95       100\n",
            "           8       0.96      0.93      0.94       100\n",
            "           9       0.90      0.94      0.92       100\n",
            "\n",
            "    accuracy                           0.95      1000\n",
            "   macro avg       0.95      0.95      0.95      1000\n",
            "weighted avg       0.95      0.95      0.95      1000\n",
            "\n",
            "Fitting 2 folds for each of 1 candidates, totalling 2 fits\n",
            "[CV 1/2] END .....max_depth=3, n_estimators=200;, score=0.785 total time=   1.1s\n",
            "[CV 2/2] END .....max_depth=3, n_estimators=200;, score=0.768 total time=   1.1s\n",
            "              precision    recall  f1-score   support\n",
            "\n",
            "           0       0.81      0.95      0.88       100\n",
            "           1       0.62      0.99      0.76       100\n",
            "           2       0.90      0.76      0.83       100\n",
            "           3       0.69      0.68      0.68       100\n",
            "           4       0.81      0.78      0.80       100\n",
            "           5       0.89      0.34      0.49       100\n",
            "           6       0.79      0.87      0.83       100\n",
            "           7       0.82      0.87      0.84       100\n",
            "           8       0.89      0.73      0.80       100\n",
            "           9       0.71      0.77      0.74       100\n",
            "\n",
            "    accuracy                           0.77      1000\n",
            "   macro avg       0.79      0.77      0.77      1000\n",
            "weighted avg       0.79      0.77      0.77      1000\n",
            "\n"
          ]
        }
      ],
      "source": [
        "cv3 = GridSearchCV(XGBClassifier(), {\"n_estimators\":[100], \"learning_rate\":[0.1]},\n",
        "                   verbose=4, cv=2).fit(X_train, y_train)\n",
        "best3 = cv3.best_estimator_\n",
        "print( classification_report(y_test, best3.predict(X_test)) )\n",
        "\n",
        "cv4 = GridSearchCV(RandomForestClassifier(), {\"n_estimators\":[200], \"max_depth\":[3]},\n",
        "                   verbose=4,cv=2).fit(X_train, y_train)\n",
        "best4 = cv4.best_estimator_\n",
        "print( classification_report(y_test, best4.predict(X_test)) )"
      ]
    }
  ]
}