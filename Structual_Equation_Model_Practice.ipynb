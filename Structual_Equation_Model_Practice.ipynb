{
  "nbformat": 4,
  "nbformat_minor": 0,
  "metadata": {
    "colab": {
      "provenance": [],
      "authorship_tag": "ABX9TyMjRYBiJxxtBNlp3PIhVGR4",
      "include_colab_link": true
    },
    "kernelspec": {
      "name": "python3",
      "display_name": "Python 3"
    },
    "language_info": {
      "name": "python"
    }
  },
  "cells": [
    {
      "cell_type": "markdown",
      "metadata": {
        "id": "view-in-github",
        "colab_type": "text"
      },
      "source": [
        "<a href=\"https://colab.research.google.com/github/NaHyeon1Kim/Modeling/blob/main/Structual_Equation_Model_Practice.ipynb\" target=\"_parent\"><img src=\"https://colab.research.google.com/assets/colab-badge.svg\" alt=\"Open In Colab\"/></a>"
      ]
    },
    {
      "cell_type": "markdown",
      "source": [
        "*무인 키오스크 모형의 예"
      ],
      "metadata": {
        "id": "I3mGEHu8vFFW"
      }
    },
    {
      "cell_type": "markdown",
      "source": [
        "* structural part\n",
        " - $\\eta_1$ ~ $\\xi_1$ + $\\xi_2$\n",
        "\n",
        "* measurement part\n",
        " - $\\eta_1$ =~ $y_1$ + $y_2$\n",
        " - $\\xi_1$ =~ $x_1$ + $x_2$\n",
        " - $\\xi_2$ =~ $x_3$ + $x_4$"
      ],
      "metadata": {
        "id": "EPGGIXYFHFTw"
      }
    },
    {
      "cell_type": "code",
      "execution_count": null,
      "metadata": {
        "colab": {
          "base_uri": "https://localhost:8080/"
        },
        "id": "jupwhnlUE6tK",
        "outputId": "ec4c3869-f394-4488-82d7-009d65f1a643"
      },
      "outputs": [
        {
          "output_type": "stream",
          "name": "stdout",
          "text": [
            "Collecting semopy\n",
            "  Downloading semopy-2.3.10.tar.gz (1.6 MB)\n",
            "\u001b[2K     \u001b[90m━━━━━━━━━━━━━━━━━━━━━━━━━━━━━━━━━━━━━━━━\u001b[0m \u001b[32m1.6/1.6 MB\u001b[0m \u001b[31m9.2 MB/s\u001b[0m eta \u001b[36m0:00:00\u001b[0m\n",
            "\u001b[?25h  Preparing metadata (setup.py) ... \u001b[?25l\u001b[?25hdone\n",
            "Requirement already satisfied: scipy in /usr/local/lib/python3.10/dist-packages (from semopy) (1.11.3)\n",
            "Requirement already satisfied: numpy in /usr/local/lib/python3.10/dist-packages (from semopy) (1.23.5)\n",
            "Requirement already satisfied: pandas in /usr/local/lib/python3.10/dist-packages (from semopy) (1.5.3)\n",
            "Requirement already satisfied: sympy in /usr/local/lib/python3.10/dist-packages (from semopy) (1.12)\n",
            "Requirement already satisfied: scikit-learn in /usr/local/lib/python3.10/dist-packages (from semopy) (1.2.2)\n",
            "Requirement already satisfied: statsmodels in /usr/local/lib/python3.10/dist-packages (from semopy) (0.14.0)\n",
            "Collecting numdifftools (from semopy)\n",
            "  Downloading numdifftools-0.9.41-py2.py3-none-any.whl (100 kB)\n",
            "\u001b[2K     \u001b[90m━━━━━━━━━━━━━━━━━━━━━━━━━━━━━━━━━━━━━━━━\u001b[0m \u001b[32m100.2/100.2 kB\u001b[0m \u001b[31m11.5 MB/s\u001b[0m eta \u001b[36m0:00:00\u001b[0m\n",
            "\u001b[?25hRequirement already satisfied: python-dateutil>=2.8.1 in /usr/local/lib/python3.10/dist-packages (from pandas->semopy) (2.8.2)\n",
            "Requirement already satisfied: pytz>=2020.1 in /usr/local/lib/python3.10/dist-packages (from pandas->semopy) (2023.3.post1)\n",
            "Requirement already satisfied: joblib>=1.1.1 in /usr/local/lib/python3.10/dist-packages (from scikit-learn->semopy) (1.3.2)\n",
            "Requirement already satisfied: threadpoolctl>=2.0.0 in /usr/local/lib/python3.10/dist-packages (from scikit-learn->semopy) (3.2.0)\n",
            "Requirement already satisfied: patsy>=0.5.2 in /usr/local/lib/python3.10/dist-packages (from statsmodels->semopy) (0.5.3)\n",
            "Requirement already satisfied: packaging>=21.3 in /usr/local/lib/python3.10/dist-packages (from statsmodels->semopy) (23.2)\n",
            "Requirement already satisfied: mpmath>=0.19 in /usr/local/lib/python3.10/dist-packages (from sympy->semopy) (1.3.0)\n",
            "Requirement already satisfied: six in /usr/local/lib/python3.10/dist-packages (from patsy>=0.5.2->statsmodels->semopy) (1.16.0)\n",
            "Building wheels for collected packages: semopy\n",
            "  Building wheel for semopy (setup.py) ... \u001b[?25l\u001b[?25hdone\n",
            "  Created wheel for semopy: filename=semopy-2.3.10-py3-none-any.whl size=1659680 sha256=4daa6128608289c0c616c9a31447e39949cf8476feac38d31502b62902a31fd0\n",
            "  Stored in directory: /root/.cache/pip/wheels/c2/8e/7f/4299ddd66512f11df668a853e9e0814c05da708ebdedb9544f\n",
            "Successfully built semopy\n",
            "Installing collected packages: numdifftools, semopy\n",
            "Successfully installed numdifftools-0.9.41 semopy-2.3.10\n"
          ]
        }
      ],
      "source": [
        "!pip install semopy"
      ]
    },
    {
      "cell_type": "code",
      "source": [
        "import semopy\n",
        "import pandas as pd"
      ],
      "metadata": {
        "colab": {
          "base_uri": "https://localhost:8080/",
          "height": 54
        },
        "id": "z4Tj9FOmFLEM",
        "outputId": "ef713e68-ea4b-406e-9d70-551112319b5c"
      },
      "execution_count": null,
      "outputs": [
        {
          "output_type": "execute_result",
          "data": {
            "text/plain": [
              "'# measurement model\\nind60 =~ x1 + x2 + x3\\ndem60 =~ y1 + y2 + y3 + y4\\ndem65 =~ y5 + y6 + y7 + y8\\n# regressions\\ndem60 ~ ind60\\ndem65 ~ ind60 + dem60\\n# residual correlations\\ny1 ~~ y5\\ny2 ~~ y4 + y6\\ny3 ~~ y7\\ny4 ~~ y8\\ny6 ~~ y8'"
            ],
            "application/vnd.google.colaboratory.intrinsic+json": {
              "type": "string"
            }
          },
          "metadata": {},
          "execution_count": 3
        }
      ]
    },
    {
      "cell_type": "code",
      "source": [
        "#desc = '#measurement model \\n eta1 =~ x1 + x2 \\n eta2 =~ x3 + x4 \\n xi1 =~ y1 + y2 \\n # regressions \\n xi1 ~ eta1 + eta2 # residual correlations \\n y1 ~~ y2 \\n x1 ~~ x2 \\n x3 ~~ x4'\n",
        "desc = '#measurement model \\n eta1 =~ x1 + x2 \\n eta2 =~ x3 + x4 \\n xi1 =~ y1 + y2 \\n # regressions \\n xi1 ~ eta1 + eta2'\n",
        "desc = '''\n",
        "#measurement model\n",
        "eta1 =~ x1 + x2\n",
        "eta2 =~ x3 + x4\n",
        "xi1 =~ y1 + y2\n",
        "\n",
        "# regressions\n",
        "xi1 ~ eta1 + eta2\n",
        "'''\n",
        "print( desc )"
      ],
      "metadata": {
        "colab": {
          "base_uri": "https://localhost:8080/"
        },
        "id": "69llpG782wb5",
        "outputId": "83989763-c233-41bf-ecda-b93caaba492f"
      },
      "execution_count": null,
      "outputs": [
        {
          "output_type": "stream",
          "name": "stdout",
          "text": [
            "\n",
            "#measurement model\n",
            "eta1 =~ x1 + x2\n",
            "eta2 =~ x3 + x4\n",
            "xi1 =~ y1 + y2\n",
            "\n",
            "# regressions\n",
            "xi1 ~ eta1 + eta2\n",
            "\n"
          ]
        }
      ]
    },
    {
      "cell_type": "code",
      "source": [
        "data = semopy.examples.political_democracy.get_data()\n",
        "data = pd.read_csv(\"data.csv\")"
      ],
      "metadata": {
        "id": "68q4Bvz7FLHD"
      },
      "execution_count": null,
      "outputs": []
    },
    {
      "cell_type": "code",
      "source": [
        "mod = semopy.Model(desc)\n",
        "res = mod.fit(data)\n",
        "print(res)"
      ],
      "metadata": {
        "colab": {
          "base_uri": "https://localhost:8080/"
        },
        "id": "lyA_d-B4FLJ0",
        "outputId": "826822e2-50a0-43e6-d374-43ca1cb04c0b"
      },
      "execution_count": null,
      "outputs": [
        {
          "output_type": "stream",
          "name": "stderr",
          "text": [
            "WARNING:root:Sample covariance matrix is not PD. It may indicate that data is bad. Also, it arises often when polychoric/polyserial correlations are used. semopy now will run nearPD subroutines.\n"
          ]
        },
        {
          "output_type": "stream",
          "name": "stdout",
          "text": [
            "Name of objective: MLW\n",
            "Optimization method: SLSQP\n",
            "Optimization successful.\n",
            "Optimization terminated successfully\n",
            "Objective value: 4.543\n",
            "Number of iterations: 52\n",
            "Params: -2.527 -0.379 -1.255 -0.257 1.003 0.313 0.395 1.361 2.644 0.000 0.000 0.445 0.085 1.933 0.000\n"
          ]
        }
      ]
    },
    {
      "cell_type": "code",
      "source": [
        "ins = mod.inspect()\n",
        "print(ins)"
      ],
      "metadata": {
        "colab": {
          "base_uri": "https://localhost:8080/"
        },
        "id": "GhklRFyNFLMK",
        "outputId": "bfe73cff-3ac8-4da2-f8f0-113b1dc24066"
      },
      "execution_count": null,
      "outputs": [
        {
          "output_type": "stream",
          "name": "stdout",
          "text": [
            "    lval  op  rval      Estimate  Std. Err   z-value   p-value\n",
            "0    xi1   ~  eta1 -2.571046e-01  0.431269 -0.596159  0.551069\n",
            "1    xi1   ~  eta2  1.002585e+00  0.471245  2.127526  0.033376\n",
            "2     x1   ~  eta1  1.000000e+00         -         -         -\n",
            "3     x2   ~  eta1 -2.527374e+00  3.461063 -0.730231  0.465249\n",
            "4     x3   ~  eta2  1.000000e+00         -         -         -\n",
            "5     x4   ~  eta2 -3.790210e-01  0.186139 -2.036221  0.041728\n",
            "6     y1   ~   xi1  1.000000e+00         -         -         -\n",
            "7     y2   ~   xi1 -1.255227e+00  0.506959 -2.475994  0.013287\n",
            "8   eta1  ~~  eta1  3.130960e-01   0.67218  0.465792  0.641364\n",
            "9   eta1  ~~  eta2  3.945021e-01  0.591627  0.666809  0.504894\n",
            "10  eta2  ~~  eta2  1.360506e+00  0.628847  2.163492  0.030503\n",
            "11   xi1  ~~   xi1  8.492937e-02   0.21211  0.400402  0.688861\n",
            "12    x1  ~~    x1  2.644364e+00  1.224572  2.159419  0.030818\n",
            "13    x2  ~~    x2  0.000000e+00  2.030458       0.0       1.0\n",
            "14    x3  ~~    x3  4.333896e-15  0.158913       0.0       1.0\n",
            "15    x4  ~~    x4  4.447212e-01  0.200191  2.221481  0.026318\n",
            "16    y1  ~~    y1  1.932724e+00  0.874457  2.210198  0.027091\n",
            "17    y2  ~~    y2  3.178101e-16  0.208973       0.0       1.0\n"
          ]
        }
      ]
    },
    {
      "cell_type": "markdown",
      "source": [
        "- 잠재변수와 첫 관측변수 사이의 계수는 1로 고정\n",
        "- a \\~~ b + c 는 a와 b, a와 c 사이의 공분산 지정\n",
        "- c \\~~ c는 분산 지\n"
      ],
      "metadata": {
        "id": "Jk7V91ea6QdD"
      }
    },
    {
      "cell_type": "code",
      "source": [
        "g = semopy.semplot(mod, \"pathdiagram.png\")\n",
        "g"
      ],
      "metadata": {
        "colab": {
          "base_uri": "https://localhost:8080/",
          "height": 371
        },
        "id": "yIK_dpYw5tSt",
        "outputId": "3cb13d6d-7903-4b89-84b9-93ff001d4a60"
      },
      "execution_count": null,
      "outputs": [
        {
          "output_type": "execute_result",
          "data": {
            "image/svg+xml": "<?xml version=\"1.0\" encoding=\"UTF-8\" standalone=\"no\"?>\n<!DOCTYPE svg PUBLIC \"-//W3C//DTD SVG 1.1//EN\"\n \"http://www.w3.org/Graphics/SVG/1.1/DTD/svg11.dtd\">\n<!-- Generated by graphviz version 2.43.0 (0)\n -->\n<!-- Title: G Pages: 1 -->\n<svg width=\"410pt\" height=\"263pt\"\n viewBox=\"0.00 0.00 410.00 262.89\" xmlns=\"http://www.w3.org/2000/svg\" xmlns:xlink=\"http://www.w3.org/1999/xlink\">\n<g id=\"graph0\" class=\"graph\" transform=\"scale(1 1) rotate(0) translate(4 258.89)\">\n<title>G</title>\n<polygon fill=\"white\" stroke=\"transparent\" points=\"-4,4 -4,-258.89 406,-258.89 406,4 -4,4\"/>\n<!-- eta2 -->\n<g id=\"node1\" class=\"node\">\n<title>eta2</title>\n<ellipse fill=\"#cae6df\" stroke=\"black\" cx=\"303\" cy=\"-229.54\" rx=\"25.2\" ry=\"25.2\"/>\n<text text-anchor=\"middle\" x=\"303\" y=\"-225.84\" font-family=\"Times,serif\" font-size=\"14.00\">eta2</text>\n</g>\n<!-- xi1 -->\n<g id=\"node3\" class=\"node\">\n<title>xi1</title>\n<ellipse fill=\"#cae6df\" stroke=\"black\" cx=\"199\" cy=\"-120.1\" rx=\"22.2\" ry=\"22.2\"/>\n<text text-anchor=\"middle\" x=\"199\" y=\"-116.4\" font-family=\"Times,serif\" font-size=\"14.00\">xi1</text>\n</g>\n<!-- eta2&#45;&gt;xi1 -->\n<g id=\"edge2\" class=\"edge\">\n<title>eta2&#45;&gt;xi1</title>\n<path fill=\"none\" stroke=\"black\" d=\"M282.16,-214.95C271.09,-207.22 257.62,-196.95 247,-186.2 235.56,-174.62 224.65,-160.19 216.12,-147.85\"/>\n<polygon fill=\"black\" stroke=\"black\" points=\"218.86,-145.65 210.36,-139.32 213.05,-149.56 218.86,-145.65\"/>\n<text text-anchor=\"middle\" x=\"273\" y=\"-176.6\" font-family=\"Times,serif\" font-size=\"12.00\">1.003</text>\n<text text-anchor=\"middle\" x=\"273\" y=\"-163.6\" font-family=\"Times,serif\" font-size=\"12.00\">p&#45;val: 0.03</text>\n</g>\n<!-- x3 -->\n<g id=\"node6\" class=\"node\">\n<title>x3</title>\n<polygon fill=\"none\" stroke=\"black\" points=\"330,-138.1 276,-138.1 276,-102.1 330,-102.1 330,-138.1\"/>\n<text text-anchor=\"middle\" x=\"303\" y=\"-116.4\" font-family=\"Times,serif\" font-size=\"14.00\">x3</text>\n</g>\n<!-- eta2&#45;&gt;x3 -->\n<g id=\"edge5\" class=\"edge\">\n<title>eta2&#45;&gt;x3</title>\n<path fill=\"none\" stroke=\"black\" d=\"M303,-204.16C303,-187.71 303,-165.95 303,-148.83\"/>\n<polygon fill=\"black\" stroke=\"black\" points=\"306.5,-148.36 303,-138.36 299.5,-148.36 306.5,-148.36\"/>\n<text text-anchor=\"middle\" x=\"317\" y=\"-170.1\" font-family=\"Times,serif\" font-size=\"12.00\">1.000</text>\n</g>\n<!-- x4 -->\n<g id=\"node7\" class=\"node\">\n<title>x4</title>\n<polygon fill=\"none\" stroke=\"black\" points=\"402,-138.1 348,-138.1 348,-102.1 402,-102.1 402,-138.1\"/>\n<text text-anchor=\"middle\" x=\"375\" y=\"-116.4\" font-family=\"Times,serif\" font-size=\"14.00\">x4</text>\n</g>\n<!-- eta2&#45;&gt;x4 -->\n<g id=\"edge6\" class=\"edge\">\n<title>eta2&#45;&gt;x4</title>\n<path fill=\"none\" stroke=\"black\" d=\"M318.38,-209.01C323.78,-201.93 329.8,-193.81 335,-186.2 343.64,-173.54 352.63,-159.04 359.89,-146.95\"/>\n<polygon fill=\"black\" stroke=\"black\" points=\"362.97,-148.62 365.08,-138.24 356.96,-145.05 362.97,-148.62\"/>\n<text text-anchor=\"middle\" x=\"376\" y=\"-176.6\" font-family=\"Times,serif\" font-size=\"12.00\">&#45;0.379</text>\n<text text-anchor=\"middle\" x=\"376\" y=\"-163.6\" font-family=\"Times,serif\" font-size=\"12.00\">p&#45;val: 0.04</text>\n</g>\n<!-- eta1 -->\n<g id=\"node2\" class=\"node\">\n<title>eta1</title>\n<ellipse fill=\"#cae6df\" stroke=\"black\" cx=\"102\" cy=\"-229.54\" rx=\"25.2\" ry=\"25.2\"/>\n<text text-anchor=\"middle\" x=\"102\" y=\"-225.84\" font-family=\"Times,serif\" font-size=\"14.00\">eta1</text>\n</g>\n<!-- eta1&#45;&gt;xi1 -->\n<g id=\"edge1\" class=\"edge\">\n<title>eta1&#45;&gt;xi1</title>\n<path fill=\"none\" stroke=\"black\" d=\"M115.78,-208.24C125.72,-194.17 139.83,-175.32 154,-160.2 160.21,-153.57 167.44,-146.9 174.27,-140.99\"/>\n<polygon fill=\"black\" stroke=\"black\" points=\"176.63,-143.57 182.02,-134.45 172.12,-138.23 176.63,-143.57\"/>\n<text text-anchor=\"middle\" x=\"180\" y=\"-176.6\" font-family=\"Times,serif\" font-size=\"12.00\">&#45;0.257</text>\n<text text-anchor=\"middle\" x=\"180\" y=\"-163.6\" font-family=\"Times,serif\" font-size=\"12.00\">p&#45;val: 0.55</text>\n</g>\n<!-- x1 -->\n<g id=\"node4\" class=\"node\">\n<title>x1</title>\n<polygon fill=\"none\" stroke=\"black\" points=\"129,-138.1 75,-138.1 75,-102.1 129,-102.1 129,-138.1\"/>\n<text text-anchor=\"middle\" x=\"102\" y=\"-116.4\" font-family=\"Times,serif\" font-size=\"14.00\">x1</text>\n</g>\n<!-- eta1&#45;&gt;x1 -->\n<g id=\"edge3\" class=\"edge\">\n<title>eta1&#45;&gt;x1</title>\n<path fill=\"none\" stroke=\"black\" d=\"M102,-204.16C102,-187.71 102,-165.95 102,-148.83\"/>\n<polygon fill=\"black\" stroke=\"black\" points=\"105.5,-148.36 102,-138.36 98.5,-148.36 105.5,-148.36\"/>\n<text text-anchor=\"middle\" x=\"116\" y=\"-170.1\" font-family=\"Times,serif\" font-size=\"12.00\">1.000</text>\n</g>\n<!-- x2 -->\n<g id=\"node5\" class=\"node\">\n<title>x2</title>\n<polygon fill=\"none\" stroke=\"black\" points=\"54,-138.1 0,-138.1 0,-102.1 54,-102.1 54,-138.1\"/>\n<text text-anchor=\"middle\" x=\"27\" y=\"-116.4\" font-family=\"Times,serif\" font-size=\"14.00\">x2</text>\n</g>\n<!-- eta1&#45;&gt;x2 -->\n<g id=\"edge4\" class=\"edge\">\n<title>eta1&#45;&gt;x2</title>\n<path fill=\"none\" stroke=\"black\" d=\"M80.09,-216.66C68.42,-209.3 54.72,-198.84 46,-186.2 38.22,-174.91 33.59,-160.43 30.85,-147.99\"/>\n<polygon fill=\"black\" stroke=\"black\" points=\"34.28,-147.3 28.96,-138.14 27.4,-148.62 34.28,-147.3\"/>\n<text text-anchor=\"middle\" x=\"72\" y=\"-176.6\" font-family=\"Times,serif\" font-size=\"12.00\">&#45;2.527</text>\n<text text-anchor=\"middle\" x=\"72\" y=\"-163.6\" font-family=\"Times,serif\" font-size=\"12.00\">p&#45;val: 0.47</text>\n</g>\n<!-- y1 -->\n<g id=\"node8\" class=\"node\">\n<title>y1</title>\n<polygon fill=\"none\" stroke=\"black\" points=\"190,-36 136,-36 136,0 190,0 190,-36\"/>\n<text text-anchor=\"middle\" x=\"163\" y=\"-14.3\" font-family=\"Times,serif\" font-size=\"14.00\">y1</text>\n</g>\n<!-- xi1&#45;&gt;y1 -->\n<g id=\"edge7\" class=\"edge\">\n<title>xi1&#45;&gt;y1</title>\n<path fill=\"none\" stroke=\"black\" d=\"M191.71,-98.84C186.24,-83.61 178.68,-62.59 172.69,-45.94\"/>\n<polygon fill=\"black\" stroke=\"black\" points=\"175.87,-44.45 169.2,-36.23 169.29,-46.82 175.87,-44.45\"/>\n<text text-anchor=\"middle\" x=\"199\" y=\"-63.9\" font-family=\"Times,serif\" font-size=\"12.00\">1.000</text>\n</g>\n<!-- y2 -->\n<g id=\"node9\" class=\"node\">\n<title>y2</title>\n<polygon fill=\"none\" stroke=\"black\" points=\"262,-36 208,-36 208,0 262,0 262,-36\"/>\n<text text-anchor=\"middle\" x=\"235\" y=\"-14.3\" font-family=\"Times,serif\" font-size=\"14.00\">y2</text>\n</g>\n<!-- xi1&#45;&gt;y2 -->\n<g id=\"edge8\" class=\"edge\">\n<title>xi1&#45;&gt;y2</title>\n<path fill=\"none\" stroke=\"black\" d=\"M206.29,-98.84C211.76,-83.61 219.32,-62.59 225.31,-45.94\"/>\n<polygon fill=\"black\" stroke=\"black\" points=\"228.71,-46.82 228.8,-36.23 222.13,-44.45 228.71,-46.82\"/>\n<text text-anchor=\"middle\" x=\"249\" y=\"-70.4\" font-family=\"Times,serif\" font-size=\"12.00\">&#45;1.255</text>\n<text text-anchor=\"middle\" x=\"249\" y=\"-57.4\" font-family=\"Times,serif\" font-size=\"12.00\">p&#45;val: 0.01</text>\n</g>\n</g>\n</svg>\n",
            "text/plain": [
              "<graphviz.graphs.Digraph at 0x7bcfb5157d60>"
            ]
          },
          "metadata": {},
          "execution_count": 33
        }
      ]
    }
  ]
}