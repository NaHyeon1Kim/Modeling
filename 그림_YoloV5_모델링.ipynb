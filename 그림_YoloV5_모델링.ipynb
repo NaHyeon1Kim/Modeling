{
  "nbformat": 4,
  "nbformat_minor": 0,
  "metadata": {
    "colab": {
      "provenance": [],
      "gpuType": "T4",
      "authorship_tag": "ABX9TyOxxAnw9vMrtdu8lH/vr4CE",
      "include_colab_link": true
    },
    "kernelspec": {
      "name": "python3",
      "display_name": "Python 3"
    },
    "language_info": {
      "name": "python"
    },
    "accelerator": "GPU"
  },
  "cells": [
    {
      "cell_type": "markdown",
      "metadata": {
        "id": "view-in-github",
        "colab_type": "text"
      },
      "source": [
        "<a href=\"https://colab.research.google.com/github/NaHyeon1Kim/Modeling/blob/main/%EA%B7%B8%EB%A6%BC_YoloV5_%EB%AA%A8%EB%8D%B8%EB%A7%81.ipynb\" target=\"_parent\"><img src=\"https://colab.research.google.com/assets/colab-badge.svg\" alt=\"Open In Colab\"/></a>"
      ]
    },
    {
      "cell_type": "code",
      "execution_count": null,
      "metadata": {
        "colab": {
          "base_uri": "https://localhost:8080/"
        },
        "id": "HKVE4eGhLoAS",
        "outputId": "1a534784-0614-4bd0-9718-99824212f4d2"
      },
      "outputs": [
        {
          "output_type": "stream",
          "name": "stdout",
          "text": [
            "Mounted at /content/drive\n"
          ]
        }
      ],
      "source": [
        "# 드라이브 마운트\n",
        "from google.colab import drive\n",
        "drive.mount('/content/drive')"
      ]
    },
    {
      "cell_type": "code",
      "source": [
        "import torch\n",
        "from IPython.display import Image\n",
        "import shutil\n",
        "import os\n",
        "from random import choice"
      ],
      "metadata": {
        "id": "xCdK6WUBL2mn"
      },
      "execution_count": null,
      "outputs": []
    },
    {
      "cell_type": "code",
      "source": [
        "!git clone https://github.com/ultralytics/yolov5"
      ],
      "metadata": {
        "id": "nYukBK4ENRtW"
      },
      "execution_count": null,
      "outputs": []
    },
    {
      "cell_type": "code",
      "source": [
        "!curl -L \"https://app.roboflow.com/ds/2kYxQa6x8T?key=usF7txJUx5\" > roboflow.zip; unzip roboflow.zip; rm roboflow.zip"
      ],
      "metadata": {
        "id": "PV83ebSkdBCx"
      },
      "execution_count": null,
      "outputs": []
    },
    {
      "cell_type": "code",
      "source": [
        "%cd yolov5/\n",
        "!pip install -r requirements.txt"
      ],
      "metadata": {
        "id": "rUqqA3TxNidl"
      },
      "execution_count": null,
      "outputs": []
    },
    {
      "cell_type": "code",
      "source": [
        "ls /content/data.yaml"
      ],
      "metadata": {
        "id": "ukuK3PCWNtJ3"
      },
      "execution_count": null,
      "outputs": []
    },
    {
      "cell_type": "code",
      "source": [
        "!python train.py --img 200 --batch 16 --epochs 30 --data /content/data.yaml --cfg ./models/yolov5s.yaml --weights yolov5s.pt --name home_yolov5s_results"
      ],
      "metadata": {
        "id": "f5jU4vpqemGj"
      },
      "execution_count": null,
      "outputs": []
    },
    {
      "cell_type": "code",
      "source": [
        "!python detect.py --weights ./runs/train/home_yolov5s_results/weights/best.pt --conf 0.1 --source home.jpg"
      ],
      "metadata": {
        "id": "v2NzPg3ZsyRU",
        "colab": {
          "base_uri": "https://localhost:8080/"
        },
        "outputId": "394ee222-86e8-4b85-b85a-9b4450029e77"
      },
      "execution_count": null,
      "outputs": [
        {
          "output_type": "stream",
          "name": "stdout",
          "text": [
            "\u001b[34m\u001b[1mdetect: \u001b[0mweights=['./runs/train/home_yolov5s_results/weights/best.pt'], source=home.jpg, data=data/coco128.yaml, imgsz=[640, 640], conf_thres=0.1, iou_thres=0.45, max_det=1000, device=, view_img=False, save_txt=False, save_csv=False, save_conf=False, save_crop=False, nosave=False, classes=None, agnostic_nms=False, augment=False, visualize=False, update=False, project=runs/detect, name=exp, exist_ok=False, line_thickness=3, hide_labels=False, hide_conf=False, half=False, dnn=False, vid_stride=1\n",
            "YOLOv5 🚀 v7.0-218-g9e97ac3 Python-3.10.12 torch-2.0.1+cu118 CUDA:0 (Tesla T4, 15102MiB)\n",
            "\n",
            "Fusing layers... \n",
            "YOLOv5s summary: 157 layers, 7012822 parameters, 0 gradients, 15.8 GFLOPs\n",
            "image 1/1 /content/yolov5/home.jpg: 416x640 1 printing, 42.5ms\n",
            "Speed: 0.5ms pre-process, 42.5ms inference, 1.5ms NMS per image at shape (1, 3, 640, 640)\n",
            "Results saved to \u001b[1mruns/detect/exp3\u001b[0m\n"
          ]
        }
      ]
    },
    {
      "cell_type": "code",
      "source": [
        "#https://zeuskwon-ds.tistory.com/91"
      ],
      "metadata": {
        "id": "CtMKtkwAexbH"
      },
      "execution_count": null,
      "outputs": []
    },
    {
      "cell_type": "code",
      "source": [
        "#https://clap0107.tistory.com/5"
      ],
      "metadata": {
        "id": "rAYnzy1re2tW"
      },
      "execution_count": null,
      "outputs": []
    },
    {
      "cell_type": "markdown",
      "source": [
        "YOLOv5 학습 과정:\n",
        "\n",
        "데이터셋 구성: 모델을 학습하기 위해 이미지 데이터와 각 이미지에 대한 레이블(객체의 위치 및 클래스 정보)을 필요로 합니다. 데이터셋은 주로 이미지 파일과 해당 이미지의 레이블 파일로 구성됩니다. 예를 들어, 이미지와 그에 해당하는 XML 또는 TXT 파일로 구성된 데이터셋을 사용합니다.\n",
        "\n",
        "데이터셋 분할: 데이터셋은 학습 데이터와 검증 데이터로 분할됩니다. 학습 데이터는 모델을 학습시키는 데 사용되고, 검증 데이터는 학습 중 모델의 성능을 평가하는 데 사용됩니다. 일반적으로 학습 데이터와 검증 데이터를 분리하여 모델의 일반화 성능을 확인합니다.\n",
        "\n",
        "데이터 전처리: YOLOv5 모델은 입력 이미지를 특정 크기로 조정하고, 데이터 증강(데이터 확장), 정규화 등의 전처리를 적용합니다. 또한, 이미지와 레이블 파일을 모델이 이해할 수 있는 형식으로 변환합니다.\n",
        "\n",
        "모델 학습: 전처리된 데이터를 사용하여 YOLOv5 모델을 학습합니다. 모델은 이미지를 입력으로 받고, 객체를 검출하고 분류하는 작업을 수행합니다. 학습 중에 모델은 손실 함수를 최소화하도록 가중치를 조정하며, 객체 검출 능력을 향상시킵니다.\n",
        "\n",
        "모델 검증: 학습한 모델의 성능을 검증 데이터를 사용하여 평가합니다. 모델이 검증 데이터에서 얼마나 정확하게 객체를 검출하고 분류하는지를 측정하여 모델의 성능을 평가합니다.\n",
        "\n",
        "모델 평가 및 테스트: 학습된 모델의 성능을 평가하고, 필요한 경우 테스트 데이터를 사용하여 모델의 일반화 성능을 확인합니다.\n",
        "\n",
        "이러한 과정에서 이미지를 복사하는 이유는 학습 및 검증 데이터를 구분하고, 모델 학습 및 검증에 필요한 형식으로 데이터를 준비하는 것입니다. 객체 검출 모델을 효과적으로 학습하려면 데이터셋을 정확하게 구성해야 합니다."
      ],
      "metadata": {
        "id": "i2k53TVejgUZ"
      }
    }
  ]
}